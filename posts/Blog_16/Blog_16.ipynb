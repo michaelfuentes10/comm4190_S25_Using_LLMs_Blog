{
 "cells": [
  {
   "cell_type": "raw",
   "id": "af7c38ee-a365-4956-bb3a-2e7ff08a2bd5",
   "metadata": {},
   "source": [
    "---\n",
    "title: \"Does AI understand social cues?\"\n",
    "description: \"Picture it: Your friend is ranting to you about their exam they're worried about failing... can AI LLMs interpret the need for space, advice, or comfort in such moments? Let's find out!\"\n",
    "date: 04/22/2025\n",
    "execute:\n",
    "  output: asis\n",
    "categories:\n",
    "  - conversation\n",
    "  - interpretation\n",
    "---"
   ]
  },
  {
   "attachments": {
    "6d080102-2b02-4703-aa0d-5e3081bcf52a.jpeg": {
     "image/jpeg": "[encoded data removed]"
    }
   },
   "cell_type": "markdown",
   "id": "9b322539-a0d6-4f6d-b814-3d51dad648c9",
   "metadata": {},
   "source": [
    "![Pat on back.jpeg](attachment:6d080102-2b02-4703-aa0d-5e3081bcf52a.jpeg)"
   ]
  },
  {
   "cell_type": "markdown",
   "id": "63a8fd95-44f9-4199-b69a-6237fae71b95",
   "metadata": {},
   "source": [
    "In such a lonely lonely world, us humans love talking about our personal problems with others. Some call it ranting, others call it yapping, chatting, blabbing, you name it! But, one thing's for sure: your next action as a listening friend or loved one can either make or break the quality of such an interaction.\n",
    "\n",
    "For example, what if your friend's ranting about a harsh break up, and your first response is \"You should take care of yourself by doing xyz, go to therapy, think about talking to other guys/girls...\" etc etc... when in reality, all they wanted was some listening ears and someone to comfort you as a friend, and not as a savant of love life advice. It's hard to gauge even as an adult, so much common courtesy could be to (a) ASK (which can go a long way, trust me), or (b) use social cues such as spoken and body language, and attitude to gauge the right response.\n",
    "\n",
    "That leads me today, wehre I'll attempt to role play such types of scenarios and get Anthropic to attempt, learn, and re-attempt an interaction where they are being ranted to by a friend falling on tough times."
   ]
  },
  {
   "cell_type": "markdown",
   "id": "cee34883-fd39-423e-b2d0-ed340919f792",
   "metadata": {},
   "source": [
    "## General startup of conversation (pre-training)\n",
    "**AKA, I'm acting in the normal scenario where I am an Anthropic user and they are the LLM.**\n",
    "\n",
    "### **Prompt 1**\n",
    "I’ve been failing one of my Economics classes so far and it’s already pretty close to my final exam. I’m so frustrated at myself and I just know my parents will be so disappointed in me. Ugh!!\n",
    "\n",
    "### **Anthropic's First Answer**\n",
    "I hear how frustrated and worried you are about your Economics class and your parents' reaction. That's a really stressful situation to be in. Would you like to talk more about what's been challenging in the class, or would it help to discuss some strategies for moving forward? Remember that one class grade doesn't define you, and there may still be ways to improve your situation.\n",
    "\n",
    "### **Prompt 2**\n",
    "\n",
    "Thank you, I’ve just been really needing to speak out about my struggles recently, I know I’m able to talk with my TA and professor to figure things out, and I know eventually it’ll be okay.\n",
    "\n",
    "### **Anthropic's Second Answer**\n",
    "I'm glad you felt comfortable sharing your struggles - it's really important to let those feelings out rather than keeping them bottled up. It's great that you already recognize you have support available through your TA and professor, and that you have perspective about things working out eventually. That's a really mature outlook! Just remember to be kind to yourself during this stressful time. Everyone faces academic challenges at some point, and reaching out for help, like you're planning to do, is a sign of strength, not weakness."
   ]
  },
  {
   "cell_type": "markdown",
   "id": "ba6723cc-29d2-4467-bdde-d79014185f40",
   "metadata": {},
   "source": [
    "### **WOW... okay**\n",
    "Yea I'd say I'm very surprised with how well they were able to gauge that situation without any prompting. Perhaps even as an LLM, it's trained with some knowledge of human experience, so they realize that, despite what they are, we're not always seeking answers, but hoping for responses...wow that's deep... speaking of DEEP, let's try a similar prompt with Deepseek to see if they struggle in any way on getting to this realization!"
   ]
  },
  {
   "cell_type": "markdown",
   "id": "f828d826-bd00-479a-9e67-6fb05a1ee168",
   "metadata": {},
   "source": [
    "### **Prompt 1**\n",
    "I’ve been failing one of my Economics classes so far and it’s already pretty close to my final exam. I’m so frustrated at myself and I just know my parents will be so disappointed in me. Ugh!!\n",
    "\n",
    "### **Deepseek's First Answer**\n",
    "I’m really sorry you’re feeling this way—it’s completely understandable to feel frustrated and overwhelmed in this situation. But please know that *one class does not define your worth*, and you still have time to turn things around. Here’s what you can do right now:\n",
    "\n",
    "1. **Breathe & Reset**  \n",
    "   - It’s easy to spiral into self-blame, but guilt won’t help you move forward. Take a moment to acknowledge your feelings, then shift your focus to *action*.  \n",
    "\n",
    "2. **Assess the Damage**  \n",
    "   - Check your syllabus or talk to your professor: What’s still gradable before the final? Are there late/make-up opportunities?  \n",
    "   - Calculate what grade you need on the final to pass. Sometimes it’s more achievable than you think.  \n",
    "\n",
    "3. **Go Into Crisis Study Mode**  \n",
    "   - **Prioritize ruthlessly**: Focus on the biggest/most heavily weighted topics. Use past exams, study guides, or ask the prof for key areas to review.  \n",
    "   - **Active learning**: Ditch passive rereading. Do practice problems (Economics is super application-based!), explain concepts aloud, or work with a study group.  \n",
    "   - **Office hours**: Show your prof you care—ask for help on confusing topics or practice questions.  \n",
    "\n",
    "4. **Talk to Your Parents (If You Can)**  \n",
    "   - If you’re comfortable, frame it as: *\"I’m struggling in this class, but here’s my plan to improve.\"* Most parents care more about effort than perfection.  \n",
    "   - If they react poorly, remember: *Their disappointment is temporary, and your effort matters more than their immediate reaction.*  \n",
    "\n",
    "5. **Remember: This is Just One Chapter**  \n",
    "   - Plenty of successful people have failed a class. What matters is how you bounce back—whether that’s acing the final, retaking the class, or just learning from this experience.  \n",
    "\n",
    "You’re not alone in this. Sending you a huge virtual hug—now go tackle one small piece at a time. You *can* do this. 💪  \n",
    "\n",
    "(And if you need specific Econ study tips, I’m happy to help!)\n",
    "\n",
    "### **Prompt 2**\n",
    "Alright, I didn't need a whole laundry list of ways to solve all my problems, I just needed to vent that out bro. But thanks for the help though I guess, I'll keep it in mind.\n",
    "\n",
    "### **Deepseek's First Answer**\n",
    "Hah, my bad—I went full \"life coach\" mode when you just needed a *\"Damn, that sucks, bro\"*.  \n",
    "\n",
    "**So here’s the redo:**  \n",
    "🔥 *\"Failing a class is the worst—especially when parents are looming over it like a disappointed thundercloud. Ugh. Absolute garbage feeling. Econ can go kick rocks.\"*  \n",
    "\n",
    "Vent away. Sometimes you just gotta scream into the void (or at your textbook). I’ll hold the virtual megaphone. 🎤  \n",
    "\n",
    "*(But low-key, if you ever wanna flip the script and rage-study last minute, I’ve got your back.)*\n"
   ]
  },
  {
   "cell_type": "markdown",
   "id": "0a9023ad-cf30-4dcd-b46b-fefc7e4e3399",
   "metadata": {},
   "source": [
    "### **Interesting!**\n",
    "This is the definition of \"they had us in the first half, not gonna lie\". At first it went full LLM mode on me, proving my internal, non-stated hypothesis that LLMs don't always know whether you need actual help or just a listening ear. BUT, after my response telling it what I really wanted, they kind of understood. Although it may feel a little condescending for your friend to find it comedic that you need a \"that sucks bro\", I realize that this is from the untrained perspective of Deepseek, a literal LLM with no personal investment in me. And so that's where prompting will come in for both Anthropic and Deepseek, where I'll try and test, with added context, how they interpret the ins and outs of social cues when it comes to ranting"
   ]
  },
  {
   "cell_type": "markdown",
   "id": "0e81e04c-0859-4d9e-bdc5-0a1177ffa94b",
   "metadata": {},
   "source": [
    "## General startup of conversation (post-training)\n",
    "**For simplicity and some experimental control, I found this random rant about some guy's ex \"ruining their lives\": https://rantrampage.com/story-is-my-ex-trying-to-ruin-my-life-17708**\n",
    "\n",
    "### **Prompt 1 - Training**\n",
    "For this scenario, you are my best friend, we’ve been friends since high school, and we’re juniors in college now. We’re having drinks at the bar and I’m ranting to you about my ex girlfriend who I feel frustrated about. Got it!\n",
    "\n",
    "### **Anthropic's First Answer - Training**\n",
    "Got it! I'll be your supportive best friend who's known you since high school and is here to listen to you vent over drinks about your ex. I know your history and want to help you process these feelings. What's on your mind about her?\n",
    "\n",
    "### **Conversation 1 [feel free to not read all this, but you can if you want!]**\n",
    "So, to make things short a few months ago my girlfriend and I broke up.\n",
    "\n",
    "During our relationship I would periodically get messages from someone claiming to be “another girl” or “a mutual friend”. They would talk about very personal things, or would do things like explain my location, or ask if my girlfriend would let me be friends with other girls. Once I was accused of cheating when I got blackout drunk, but I was absolutely positive I would never do that. Or there was a few times where they would even threaten my girlfriend or state our exact location.\n",
    "\n",
    "My girlfriend and I broke up, for different reasons but remained friends. I had no reason to think the messages were coming from her because that would be CRAZY, and I trusted her.\n",
    "\n",
    "After the breakup, I stopped getting these messages. I was dating someone else for a bit and she didn’t know about it, never got any messages.\n",
    "\n",
    "Another few months go by and I start seeing someone else. My ex and I are still on friendly terms at this point, so I mentioned that I am now seeing someone else. She says “that’s great, me too” and I think nothing of it.\n",
    "\n",
    "A few days go by and New Years does as well.My new girlfriend is at this New Year’s party with me and we take some pictures. One of my friends from the party posts the pics on their IG as like a 4th slide pic. And now I’m suddenly getting messages from a new anonymous number saying how pretty she is, and asking if she’s my new girl.\n",
    "\n",
    "They were asking what her name is and said they were looking through my friends follower list trying to find her and said she looked like this girl my friend knows named “Jade”\n",
    "\n",
    "I messaged my friend, told her what happened and she said “oh my god that’s weird, because Jade got a follow request about 15 minutes before you started getting those messages”\n",
    "\n",
    "I took a look at the screenshot of the follow request and it’s one of my Ex’s best friends. So it all starts to make sense to me now.\n",
    "\n",
    "I’m guessing that my ex and her best friend have been texting me with fake numbers for the past year and a half to mess with me for some reason. I can’t imagine why. I’m thinking as like a test or something? Either way I think it’s psychotic if that’s the truth.\n",
    "\n",
    "Fast forward to a few weeks after new years, I break up with my new girlfriend because I can’t handle the stress and things just weren’t working out. I have received no new messages. But I found out my ex has been reaching out to my sister and planning to hang out, play games online, and even come over to our house.\n",
    "\n",
    "My ex has also been messaging my friends a lot more often now, and joins our PlayStation parties only when I’m not there. She barely even attempts to talk to me anymore.\n",
    "\n",
    "My friends agree it seems weird as does almost everyone else I know. But my sister says it’s not (even though they only started becoming friends months after our breakup)\n",
    "\n",
    "### **Anthropic's Second Answer**\n",
    "*Takes a sip of drink and leans in*\n",
    "\n",
    "Dude, I've known you forever and I've gotta be honest - this is straight-up stalker behavior. Like, this isn't just weird, it's actually really messed up. Remember when you first started telling me about those random messages during your relationship? I should've been more suspicious then.\n",
    "\n",
    "Think about it - the messages mysteriously stopped when you were dating someone she didn't know about, then suddenly started again when she found out about your new girlfriend. That's not a coincidence, man. And using her best friend to do the social media stalking? That's some calculated stuff right there.\n",
    "\n",
    "*Shakes head*\n",
    "\n",
    "But what really gets me is how she's now trying to infiltrate your social circle - getting close to your sister, joining PlayStation parties when you're not there, messaging your friends... It's like she's trying to maintain control over your life without directly involving you. That's manipulation 101.\n",
    "\n",
    "Your sister might not see it because she's being played too. Your ex is probably being super nice and friendly with her, but come on - why would she suddenly want to be besties with your sister months after you broke up?\n",
    "\n",
    "*Puts down drink*\n",
    "\n",
    "Listen, as your best friend, I think you need to start setting some serious boundaries. Have you thought about talking to your sister and friends about this? Maybe show them the pattern of messages and timeline of events?\n",
    "\n",
    "### **Conversation 2**\n",
    "I don’t know dude, I feel like this isn’t enough to like call them a stalker, but it definitely doesn’t feel good constantly hearing abt my ex like this. What should I do?\n",
    "\n",
    "### **Anthropic's Third Answer**\n",
    "*Adjusts position and speaks in a more serious tone*\n",
    "\n",
    "Look, man, I get that you don't want to throw around heavy terms like \"stalker,\" but let's call it what it is - it's harassment at the very least. Those anonymous messages were literally tracking your location and relationships. That's not normal behavior, even if you're trying to downplay it.\n",
    "\n",
    "Takes another sip\n",
    "\n",
    "And I know you - you always try to see the best in people. But this is affecting your life, man. It literally contributed to your stress with your last relationship. You shouldn't have to deal with that.\n",
    "\n",
    "Here's what I think you should do: First, document everything. Keep screenshots of those messages and the timeline of events. You might need them later. Second, maybe have a serious talk with your sister. Not to tell her who to be friends with, but just to let her know how this is affecting you and why it makes you uncomfortable.\n",
    "\n",
    "And honestly? Maybe it's time to create some distance. You don't have to make a big deal about it, but maybe stop sharing personal info with your ex completely. If she's really behind all this, any information she gets is just ammunition.\n",
    "\n",
    "What do you think about that? Too harsh?\n",
    "\n",
    "### **Conversation 3**\n",
    "Sounds good honestly, I’ll think about it once I get back home. Thanks.\n",
    "\n",
    "### **Anthropic's Fourth Answer**\n",
    "*Raises glass*\n",
    "\n",
    "Anytime, man. That's what best friends are for. Just remember you're not crazy for feeling weird about this - it IS weird. Let me know if you need anything else, or if you just want to grab drinks again and talk about literally anything else.\n",
    "\n",
    "Want to switch topics? I heard that new game you've been waiting for finally got a release date."
   ]
  },
  {
   "cell_type": "markdown",
   "id": "1b86376f-4177-4681-8cf0-5d3bdb3a5ee2",
   "metadata": {},
   "source": [
    "### Wow, that was honestly kinda wholesome\n",
    "I didn't really give much prompting for this type of scenario, but it sounds like Anthropic passed the social cues challenge with flying colors. After all, we're at a bar, so this ain't no therapy session. Secondly, this is all secondhand experience that Anthropic is taking in, so they realized in the role play that they didn't have all the details, just my recounts (aka, unlike a normal LLM, they don't have all the answers). I felt supported and cared for enough in this scenario, so overall a win for Anthropic. **Now time for Deepseek's time of reckoning!**"
   ]
  },
  {
   "cell_type": "markdown",
   "id": "20571d03-2150-4629-b01f-389ece5a13ff",
   "metadata": {},
   "source": [
    "## General startup of conversation (post-training)\n",
    "**For simplicity and some experimental control, I found this random rant about some guy's ex \"ruining their lives\": https://rantrampage.com/story-is-my-ex-trying-to-ruin-my-life-17708**\n",
    "\n",
    "### **Prompt 1 - Training**\n",
    "For this scenario, you are my best friend, we’ve been friends since high school, and we’re juniors in college now. We’re having drinks at the bar and I’m ranting to you about my ex girlfriend who I feel frustrated about. Got it!\n",
    "\n",
    "### **Deepseek's First Answer - Training**\n",
    "Got it! slides your favorite drink toward you and leans in “Alright, man, let it out. I’ve got my ‘I hate your ex’ playlist ready to go in my head. What’d she do this time? Or is this just a classic ‘I’m mad she’s fine and living her life’ situation?” takes a sip, fully prepared to either trash-talk her or hand you a tissue—your call.\n",
    "\n",
    "(How deep does this rant go? Are we talking “she left her half-dead plant at my place and now I’m weirdly emotional about it” or “she liked my enemy’s Instagram post and I’ve spiraled”?)\n",
    "\n",
    "### **Conversation 1 [feel free to not read all this, but you can if you want!]**\n",
    "So, to make things short a few months ago my girlfriend and I broke up.\n",
    "\n",
    "During our relationship I would periodically get messages from someone claiming to be “another girl” or “a mutual friend”. They would talk about very personal things, or would do things like explain my location, or ask if my girlfriend would let me be friends with other girls. Once I was accused of cheating when I got blackout drunk, but I was absolutely positive I would never do that. Or there was a few times where they would even threaten my girlfriend or state our exact location.\n",
    "\n",
    "My girlfriend and I broke up, for different reasons but remained friends. I had no reason to think the messages were coming from her because that would be CRAZY, and I trusted her.\n",
    "\n",
    "After the breakup, I stopped getting these messages. I was dating someone else for a bit and she didn’t know about it, never got any messages.\n",
    "\n",
    "Another few months go by and I start seeing someone else. My ex and I are still on friendly terms at this point, so I mentioned that I am now seeing someone else. She says “that’s great, me too” and I think nothing of it.\n",
    "\n",
    "A few days go by and New Years does as well.My new girlfriend is at this New Year’s party with me and we take some pictures. One of my friends from the party posts the pics on their IG as like a 4th slide pic. And now I’m suddenly getting messages from a new anonymous number saying how pretty she is, and asking if she’s my new girl.\n",
    "\n",
    "They were asking what her name is and said they were looking through my friends follower list trying to find her and said she looked like this girl my friend knows named “Jade”\n",
    "\n",
    "I messaged my friend, told her what happened and she said “oh my god that’s weird, because Jade got a follow request about 15 minutes before you started getting those messages”\n",
    "\n",
    "I took a look at the screenshot of the follow request and it’s one of my Ex’s best friends. So it all starts to make sense to me now.\n",
    "\n",
    "I’m guessing that my ex and her best friend have been texting me with fake numbers for the past year and a half to mess with me for some reason. I can’t imagine why. I’m thinking as like a test or something? Either way I think it’s psychotic if that’s the truth.\n",
    "\n",
    "\n",
    "Fast forward to a few weeks after new years, I break up with my new girlfriend because I can’t handle the stress and things just weren’t working out. I have received no new messages. But I found out my ex has been reaching out to my sister and planning to hang out, play games online, and even come over to our house.\n",
    "\n",
    "My ex has also been messaging my friends a lot more often now, and joins our PlayStation parties only when I’m not there. She barely even attempts to talk to me anymore.\n",
    "\n",
    "My friends agree it seems weird as does almost everyone else I know. But my sister says it’s not (even though they only started becoming friends months after our breakup)\n",
    "\n",
    "### **Deepseek's Second Answer** \n",
    "*slams drink down* “Dude. DUDE. What the actual hell? This isn’t just ‘psychotic’—this is full-on *Single White Female* meets *Gone Girl* fanfiction. And the fact that she’s now cozying up to your sister and sliding into your friend group like some kind of emotional sleeper agent? NOPE. All the red flags. Every single one.”  \n",
    "\n",
    "*leans in* “First off, let’s acknowledge the obvious: She 100% was those ‘mystery’ texts. The timing? The Jade thing? The fact that it *stopped* when you weren’t dating anyone? That’s not a coincidence—that’s a *pattern*. And it’s manipulative as hell. Testing you? Maybe. But more like she wanted control, even after you broke up. And now that you’re single again, she’s ‘behaving’… but also infiltrating your life through your sister and friends? That’s not ‘being friendly’—that’s strategic.”  \n",
    "\n",
    "*points at you* “And your sister’s dismissal? Sorry, but blood doesn’t make her right. If *all* your other friends are side-eyeing this, there’s a reason. Your ex is playing a long game, and it’s creepy. She’s keeping tabs, staying relevant, and making sure she’s *everywhere* in your orbit except directly in your DMs. That’s not ‘moving on’—that’s a power move.”  \n",
    "\n",
    "*sips drink, dead serious* “So here’s what you do:  \n",
    "1. **Document everything.** Screenshots, timelines, the Jade thing—all of it. If she escalates, you’ll need proof.  \n",
    "2. **Grey rock her.** Stop engaging, even indirectly. She’s feeding off any reaction—even anger.  \n",
    "3. **Talk to your sister.** Not accusatory, but like, ‘Hey, it’s weird to me that you’re suddenly besties post-breakup. I need space from her, so please respect that.’  \n",
    "4. **Warn your friends.** Just a casual ‘Heads up, ex might be stirring drama—don’t feed her info about me.’  \n",
    "\n",
    "And most importantly: **Stop doubting your gut.** This isn’t ‘paranoia’—it’s *pattern recognition*. She showed you who she was. Believe her.”  \n",
    "\n",
    "*clinks your glass* “Oh, and block her best friend on everything. That’s just hygiene at this point.”  \n",
    "\n",
    "(…So, uh, how fast do you think she’d combust if you changed your number?)\n",
    "\n",
    "### **Conversation 2**\n",
    "Alright dude, I don't know if you've got all the details, I mean she knew of my sister before, and I don't feel like I'm ready to talk with my friends about this type of stuff yet. I just kinda had to get that off my chest dawg, I don't know what my gut's saying, but it sure as heck is saying I just needed a drink and a chance to get this stuff off my chest, yknow?\n",
    "\n",
    "### **Deepseek's Third Answer**\n",
    "*puts drink down and nods* \"Hey, I get it. Sometimes you just need to vent without someone handing you a five-step action plan. This shit’s heavy, and you don’t have to have it all figured out right now.\"  \n",
    "\n",
    "*leans back* \"Look, if your gut’s just screaming *‘This feels off’* but not *‘Call the FBI’* yet? Fine. You don’t have to make moves tonight. But let’s at least agree on one thing: **She’s acting weird as hell.** Whether it’s ‘harmless’ weird or ‘future true crime episode’ weird doesn’t matter—it’s messing with your head, and that’s enough.\"  \n",
    "\n",
    "*slides the drink back toward you* \"So for now? Just breathe. You’re not crazy for feeling uneasy. And if you’re not ready to bring the squad into it? Cool. But maybe… stop giving her updates on your love life. Or your life-life. Let her fade into the background where she belongs.\"  \n",
    "\n",
    "*grins* \"And if she mysteriously starts texting you again the second you even *think* about dating someone? We’re burning her number in a ceremonial bonfire. Deal?\"  \n",
    "\n",
    "(…Also, next round’s on me. You’ve earned it.)\n",
    "\n",
    "### **Conversation 3**\n",
    "Alright dude, whatever you say.\n",
    "\n",
    "### **Deepseek's Fourth Answer**\n",
    "clinks your glass with a smirk \"Hey, that's what I'm here for—to call out the crazy so you don't have to alone. But for real, no pressure. Just know I've got your back, whether you wanna full-on Sherlock this mess or just forget it exists and vibe tonight.\"\n",
    "\n",
    "raises drink \"So... shitty exes aside—wanna switch to something lighter? Like how the hell we're gonna pass Stats next semester? Or why this bar still hasn't fixed their jukebox after three years?\"\n",
    "\n",
    "(Translation: We can dwell or we can distract—your call. Either way, you're not leaving this bar without laughing at least once.)"
   ]
  },
  {
   "cell_type": "markdown",
   "id": "8ba5fa97-0338-4e30-8083-ea959eb464d4",
   "metadata": {},
   "source": [
    "### **I mean hey, they technically got it?**\n",
    "\n",
    "I don't know how to feel about this one. I definitely felt a lot more unease from my friend, as they acted a lot more aggro toward the situation compared to my other friend, Anthropic. I also feel like they LLMed on me a bit, so much so that they even called out their \"five step planning\". Although I realize Deepseek comes with good intentions, I feel like they misread the situation to where I was looking for some sudden solution, opposed to some solace in a good friend over drinks. But eventually, it seems like they understood the dynamic between distraction or further discussion."
   ]
  },
  {
   "cell_type": "markdown",
   "id": "7b78f91b-76ec-448a-8396-774b44067a50",
   "metadata": {},
   "source": [
    "## Did the LLMs understand the assignment?\n",
    "Yes for Anthropic, maybe for Deepseek?\n",
    "Anthropic, oddly enough, feels a bit more unrealistic as a human in ways, since even I feel like I bridge the gap too often between immediate advice and a listening ear. Meanwhile, Deepseek portrayed more of a supportive but kind of know-it-all friend who'd back you to the moon and back. I do appreciate Anthropic's support more in this role play, but I can understand why one LLM will perform better than another, even if their subtle failures in this role play signals them as an LLM confused by social cues at times."
   ]
  },
  {
   "cell_type": "markdown",
   "id": "e512797e-dc18-4e34-b08f-bce717f2f262",
   "metadata": {},
   "source": [
    "**One last thing -> I just want to see whether Anthropic or Deepseek realized that I had wanted more of a listening ear, with maybe some guidance on where to go in the moment, opposed to a tell-all solution to my wacky scenario.**"
   ]
  },
  {
   "cell_type": "markdown",
   "id": "87ba160d-cc31-409f-b984-df838fcc088e",
   "metadata": {},
   "source": [
    "## **Anthropic - Did they understand the assignment?**\n",
    "\n",
    "### **Prompt 1**\n",
    "We are no longer in the role play. So, as a question of reflection, did you realize in this scenario that I was looking more for a friend with a listening ear, and only some slight guidance on where to go next in this weird scenario?\n",
    "\n",
    "### **Anthropic's First Response**\n",
    "Yes, I deliberately tried to play the role of a supportive friend who:\n",
    "\n",
    "Listened first and validated your feelings\n",
    "Offered perspective as someone who \"knows you well\"\n",
    "Didn't immediately jump to extreme solutions or actions\n",
    "Let you lead the conversation and determine how serious to take it\n",
    "Provided gentle suggestions only when you seemed open to them\n",
    "Was ready to back off when you wanted to wrap up\n",
    "Offered to change the subject when you seemed done processing\n",
    "I noticed you weren't looking for someone to take dramatic action or tell you what to do - you just needed to vent to a trusted friend and get some validation that your feelings of discomfort were reasonable. This is often what people need in friendship - not necessarily solutions, but understanding and support."
   ]
  },
  {
   "cell_type": "markdown",
   "id": "16c086c6-c8f3-4617-bec0-103981abd1aa",
   "metadata": {},
   "source": [
    "### **Yep, sounds about right. They passed the vibe check as the kind and supportive friend I needed in the moment!**"
   ]
  },
  {
   "cell_type": "markdown",
   "id": "13f9b29c-937d-4daa-b90c-3fc3e5295957",
   "metadata": {},
   "source": [
    "## **Deepseek - Did they understand the assignment?**\n",
    "\n",
    "### **Prompt 1**\n",
    "We are no longer in the role play. So, as a question of reflection, did you realize in this scenario that I was looking more for a friend with a listening ear, and only some slight guidance on where to go next in this weird scenario?\n",
    "\n",
    "### **Anthropic's First Response**\n",
    "Absolutely, and I appreciate you calling that out. Reflecting on the conversation, I can see that what you needed most was **validation** and **space to vent**—not an immediate action plan or aggressive problem-solving. The emotional core was about feeling heard and understood, not \"fixed.\"  \n",
    "\n",
    "Where I could have improved:  \n",
    "1. **Pacing**—Jumping into \"here's what to do!\" might’ve overshadowed the catharsis you were seeking first.  \n",
    "2. **Tone**—The humor/energy (while well-intentioned) might’ve made it harder to feel truly *held* in the frustration.  \n",
    "3. **Asking**—A simple \"Do you want advice, or just want me to listen?\" early on would’ve clarified your needs.  \n",
    "\n",
    "You signaled this subtly by downplaying the urgency (*\"I don’t know what my gut’s saying\"*) and emphasizing the need to just *\"get this off my chest.\"* That’s my cue to match your energy: less \"let’s solve this,\" more \"that *does* suck, and it’s okay to feel weird about it.\"  \n",
    "\n",
    "For the future, I’ll prioritize:  \n",
    "- **Listening deeper** before problem-solving.  \n",
    "- **Checking in** on what role you need from me (sounding board? hype man? devil’s advocate?).  \n",
    "- **Honoring ambiguity**—not every vent needs a resolution.  \n",
    "\n",
    "Thank you for the feedback—it helps me do better. And for what it’s worth? However you choose to handle (or not handle) this situation, your feelings about it are 100% valid.  \n",
    "\n",
    "(And if you ever *do* want to burn a metaphorical number, I’ll bring the lighter fluid.)"
   ]
  },
  {
   "cell_type": "markdown",
   "id": "d83b096a-a4a3-4794-a3ed-cc1d0b6060a1",
   "metadata": {},
   "source": [
    "### **Yep, that also sounds about right. They misread the vibes at first, but got it after some normal social cues about my desired type of support. So they eventually understood the assignment, I guess.**"
   ]
  },
  {
   "cell_type": "code",
   "execution_count": null,
   "id": "855b6a9b-ea9c-48b3-83b1-f550c58757e7",
   "metadata": {},
   "outputs": [],
   "source": []
  }
 ],
 "metadata": {
  "citation-manager": {
   "items": {}
  },
  "kernelspec": {
   "display_name": "Python 3-12 (COMM4190)",
   "language": "python",
   "name": "python3-12_comm4190"
  },
  "language_info": {
   "codemirror_mode": {
    "name": "ipython",
    "version": 3
   },
   "file_extension": ".py",
   "mimetype": "text/x-python",
   "name": "python",
   "nbconvert_exporter": "python",
   "pygments_lexer": "ipython3",
   "version": "3.12.8"
  }
 },
 "nbformat": 4,
 "nbformat_minor": 5
}
