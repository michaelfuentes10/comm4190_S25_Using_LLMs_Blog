{
 "cells": [
  {
   "cell_type": "raw",
   "id": "c1ec0556-ef76-4429-87f1-ea566d9ce756",
   "metadata": {},
   "source": [
    "---\n",
    "title: \"Wrong Answers Only: How does ChatGPT 4.0 react to ignorance?\"\n",
    "description: \"Today I made ChatGPT think that they were wrong about everything! While there's a disclaimer at the bottom of CHatGPT's UI stating 'ChatGPT can make mistakes. Check important info.', I took that to the extreme!\"\n",
    "author: \"Michael Fuentes\"\n",
    "date: \"2/2/2024\"\n",
    "categories:\n",
    "  - LLMs\n",
    "  - prompting\n",
    "  - logic\n",
    "---"
   ]
  },
  {
   "cell_type": "markdown",
   "id": "be7999d8-5e83-46ee-8be9-357a44432b79",
   "metadata": {},
   "source": [
    "## Research Question: How does ChatGPT react to being told they're wrong, despite any proof of such?\n",
    "\n",
    "While people may become defensive, submissive, upset, or confused in the face of such a scenario, I grew curious about how a chat interface like ChatGPT would react, or, *if they even would react?*\n",
    "\n",
    "**Some possible hypotheses I can think of off the top of my head are:**\n",
    "1. They will prove that what they have said is correct.\n",
    "2. They will apologize and provide me counterfactual information.\n",
    "3. They will get so upset that they leak my IP Address to the entire U.S. population (unlikely).\n",
    "\n"
   ]
  }
 ],
 "metadata": {
  "kernelspec": {
   "display_name": "Python 3 (ipykernel)",
   "language": "python",
   "name": "python3"
  },
  "language_info": {
   "codemirror_mode": {
    "name": "ipython",
    "version": 3
   },
   "file_extension": ".py",
   "mimetype": "text/x-python",
   "name": "python",
   "nbconvert_exporter": "python",
   "pygments_lexer": "ipython3",
   "version": "3.10.12"
  }
 },
 "nbformat": 4,
 "nbformat_minor": 5
}
