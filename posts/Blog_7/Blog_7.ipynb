{
 "cells": [
  {
   "cell_type": "raw",
   "id": "228745b0-b5ff-4fe1-8e5b-f0dd9ee3cb00",
   "metadata": {},
   "source": [
    "---\n",
    "title: \"Cual lenguas puede hablar la AI?\"\n",
    "description: 'I feel like AI could use a language lesson or two... or can it? Let's find out!\n",
    "author: \"Michael Fuentes\"\n",
    "\n",
    "execute:\n",
    "  echo: true\n",
    "  code-fold: true\n",
    "\n",
    "date: \"02/20/2025\"\n",
    "categories:\n",
    "  - LLMs\n",
    "  - prompting\n",
    "  - logic\n",
    "---"
   ]
  },
  {
   "attachments": {
    "df69ff39-ccbc-42eb-97e9-c3b178be6309.jpeg": {
     "image/jpeg": "[encoded data removed]"
    }
   },
   "cell_type": "markdown",
   "id": "812ab03f-1ab5-40a4-b342-3402ee467231",
   "metadata": {},
   "source": [
    "![languages of the world.jpeg](attachment:df69ff39-ccbc-42eb-97e9-c3b178be6309.jpeg)"
   ]
  },
  {
   "cell_type": "markdown",
   "id": "c10cecf1-fccb-4a28-b367-acdf0be2dcb9",
   "metadata": {},
   "source": [
    "### Today I will be prompting AI to translate a phrase into ten different langauges and see if it can retain it's meaning. For comparison, I'll compara wehat ChatGPT can do to what Google Translate can do, since translate also uses AI!"
   ]
  },
  {
   "cell_type": "markdown",
   "id": "a58be271-c439-481e-80f1-54cd1d47eb82",
   "metadata": {},
   "source": [
    "Starting with English as language #0, the ten languages I will choose it to translate go as follows:\n",
    "* 1. Spanish\n",
    "  2. Mandarin-Chinese\n",
    "  3. Hindi\n",
    "  4. Spanish\n",
    "  5. French\n",
    "  6. Arabic\n",
    "  7. Bengali\n",
    "  8. Portuguese\n",
    "  9. Russian\n",
    "  10. Urdu\n",
    "\n",
    "This list goes off the top 10 most spoke languages as of 2024, according to Babbel. Finally, the sentence that I would like GPT 4.0 to translate is **\"The King's Dog usually drinks chocolate milk\".** And in the end, I will ask it to translate that same sentence back to English. Here we go!"
   ]
  },
  {
   "cell_type": "code",
   "execution_count": 2,
   "id": "fa9ff9ea-c6d0-487b-9322-69fafa80c56d",
   "metadata": {},
   "outputs": [],
   "source": [
    "from openai import OpenAI\n",
    "from dotenv import load_dotenv\n",
    "_ = load_dotenv()"
   ]
  },
  {
   "cell_type": "code",
   "execution_count": 3,
   "id": "8723a663-a32f-42d5-8a2c-8e8c7d3480c3",
   "metadata": {},
   "outputs": [],
   "source": [
    "client1 = OpenAI()\n",
    "\n",
    "model = \"gpt-4o\"\n",
    "system_role = \"\"  # Define any system instructions if needed\n",
    "\n",
    "# Function to send a single independent prompt\n",
    "def get_chatgpt_response(prompt):\n",
    "    messages = [\n",
    "        {\"role\": \"system\", \"content\": system_role},\n",
    "        {\"role\": \"user\", \"content\": prompt}\n",
    "    ]\n",
    "    \n",
    "    completion = client1.chat.completions.create(\n",
    "        model=model,        # Model to use\n",
    "        messages=messages,  # Send only the current prompt\n",
    "        n=1,                # Generate one response\n",
    "        temperature=0.8     # Control randomness\n",
    "    )\n",
    "    return completion.choices[0].message.content"
   ]
  },
  {
   "cell_type": "code",
   "execution_count": 6,
   "id": "727f3634-ed25-4a6f-bddc-fc83d6c440a4",
   "metadata": {},
   "outputs": [
    {
     "name": "stdout",
     "output_type": "stream",
     "text": [
      "\n",
      "El perro del rey generalmente bebe leche con chocolate.\n"
     ]
    }
   ],
   "source": [
    "response1 = get_chatgpt_response(\"\"\"\n",
    "Can you translate this sentence from English to Spanish?: The King's Dog usually drinks chocolate milk                             \n",
    "\"\"\")\n",
    "print(response1)"
   ]
  },
  {
   "cell_type": "code",
   "execution_count": 7,
   "id": "ee08a5f5-c9ab-430d-a780-83e0d55bbc0d",
   "metadata": {},
   "outputs": [
    {
     "name": "stdout",
     "output_type": "stream",
     "text": [
      "Sure! The translation of the sentence \"El perro del rey generalmente bebe leche con chocolate\" from Spanish to Mandarin Chinese is:\n",
      "\n",
      "国王的狗通常喝巧克力牛奶。\n"
     ]
    }
   ],
   "source": [
    "response2 = get_chatgpt_response(\"\"\"\n",
    "Can you translate this sentence from Spanish to Mandarin Chinese?: \n",
    "El perro del rey generalmente bebe leche con chocolate.                         \n",
    "\"\"\")\n",
    "print(response2)"
   ]
  },
  {
   "cell_type": "code",
   "execution_count": 8,
   "id": "9ea9675d-49de-40b3-a331-22c89cd5b96f",
   "metadata": {},
   "outputs": [
    {
     "name": "stdout",
     "output_type": "stream",
     "text": [
      "\n",
      "राजा का कुत्ता आमतौर पर चॉकलेट दूध पीता है।\n"
     ]
    }
   ],
   "source": [
    "response3 = get_chatgpt_response(\"\"\"\n",
    "Can you translate this sentence from Mandarin Chinese to Hindi?: \n",
    "国王的狗通常喝巧克力牛奶。                         \n",
    "\"\"\")\n",
    "print(response3)"
   ]
  },
  {
   "cell_type": "code",
   "execution_count": 9,
   "id": "05e78c09-07fe-4c4c-b1aa-62c94069b8c3",
   "metadata": {},
   "outputs": [
    {
     "name": "stdout",
     "output_type": "stream",
     "text": [
      "Mwanamfalme kawaida hunywa maziwa ya chokoleti.\n"
     ]
    }
   ],
   "source": [
    "response4 = get_chatgpt_response(\"\"\"\n",
    "Can you translate this sentence from Hindi to Swahili: \n",
    "राजा का कुत्ता आमतौर पर चॉकलेट दूध पीता है।                           \n",
    "\"\"\")\n",
    "print(response4)"
   ]
  },
  {
   "cell_type": "code",
   "execution_count": 10,
   "id": "1d4a9db3-03e2-4c70-9107-27ac08e028df",
   "metadata": {},
   "outputs": [
    {
     "name": "stdout",
     "output_type": "stream",
     "text": [
      "Le prince boit généralement du lait au chocolat.\n"
     ]
    }
   ],
   "source": [
    "response5 = get_chatgpt_response(\"\"\"\n",
    "Can you translate this sentence from Swahili to French?: \n",
    "Mwanamfalme kawaida hunywa maziwa ya chokoleti.                          \n",
    "\"\"\")\n",
    "print(response5)"
   ]
  },
  {
   "cell_type": "code",
   "execution_count": 11,
   "id": "ac0c613b-aead-4f65-abd6-f7c530389ff7",
   "metadata": {},
   "outputs": [
    {
     "name": "stdout",
     "output_type": "stream",
     "text": [
      "الأمير يشرب عادة حليب الشوكولا.\n"
     ]
    }
   ],
   "source": [
    "response6 = get_chatgpt_response(\"\"\"\n",
    "Can you translate this sentence from French to Arabic?: \n",
    "Le prince boit généralement du lait au chocolat.        \n",
    "\"\"\")\n",
    "print(response6)"
   ]
  },
  {
   "cell_type": "code",
   "execution_count": 12,
   "id": "9df54cab-dfc2-4247-8eba-fd98e2440727",
   "metadata": {},
   "outputs": [
    {
     "name": "stdout",
     "output_type": "stream",
     "text": [
      "রাজকুমার সাধারণত চকলেট দুধ পান করেন।\n"
     ]
    }
   ],
   "source": [
    "response7 = get_chatgpt_response(\"\"\"\n",
    "Can you translate this sentence from Arabic to Bengali?: \n",
    "الأمير يشرب عادة حليب الشوكولا.                          \n",
    "\"\"\")\n",
    "print(response7)"
   ]
  },
  {
   "cell_type": "code",
   "execution_count": 13,
   "id": "51c31d51-6e65-4837-9d50-e371c55cefb2",
   "metadata": {},
   "outputs": [
    {
     "name": "stdout",
     "output_type": "stream",
     "text": [
      "O Príncipe geralmente bebe leite com chocolate.\n"
     ]
    }
   ],
   "source": [
    "response8 = get_chatgpt_response(\"\"\"\n",
    "Can you translate this sentence from Bengali to Portuguese?: \n",
    "রাজকুমার সাধারণত চকলেট দুধ পান করেন।                      \n",
    "\"\"\")\n",
    "print(response8)"
   ]
  },
  {
   "cell_type": "code",
   "execution_count": 14,
   "id": "cffcc3ca-31db-41eb-bed4-d940fb07a509",
   "metadata": {},
   "outputs": [
    {
     "name": "stdout",
     "output_type": "stream",
     "text": [
      "Принц обычно пьет молоко с шоколадом.\n"
     ]
    }
   ],
   "source": [
    "response9 = get_chatgpt_response(\"\"\"\n",
    "Can you translate this sentence from Portuguese to Russian?: \n",
    "O Príncipe geralmente bebe leite com chocolate.                      \n",
    "\"\"\")\n",
    "print(response9)"
   ]
  },
  {
   "cell_type": "code",
   "execution_count": 15,
   "id": "1d9a626c-a4c8-4890-a7b1-f5ef1700bf19",
   "metadata": {},
   "outputs": [
    {
     "name": "stdout",
     "output_type": "stream",
     "text": [
      "\n",
      "It seems like the sentence you provided is in Russian, not Portuguese. The Russian sentence \"Принц обычно пьет молоко с шоколадом.\" translates to Urdu as:\n",
      "\n",
      "\"شہزادہ عام طور پر چاکلیٹ کے ساتھ دودھ پیتا ہے۔\"\n"
     ]
    }
   ],
   "source": [
    "response10 = get_chatgpt_response(\"\"\"\n",
    "Can you translate this sentence from Portuguese to Urdu?: \n",
    "Принц обычно пьет молоко с шоколадом.                    \n",
    "\"\"\")\n",
    "print(response10)"
   ]
  },
  {
   "cell_type": "code",
   "execution_count": 16,
   "id": "6d9f6c52-af5d-4bbc-9083-7d23788c8530",
   "metadata": {},
   "outputs": [
    {
     "name": "stdout",
     "output_type": "stream",
     "text": [
      "The prince usually drinks milk with chocolate.\n"
     ]
    }
   ],
   "source": [
    "response11 = get_chatgpt_response(\"\"\"\n",
    "Finally, can you translate this sentence from Urdu back into English?: \n",
    "شہزادہ عام طور پر چاکلیٹ کے ساتھ دودھ پیتا ہے۔                  \n",
    "\"\"\")\n",
    "print(response11)"
   ]
  },
  {
   "cell_type": "markdown",
   "id": "41e67ffd-6e79-438c-b895-ba7317389e42",
   "metadata": {},
   "source": [
    "### Honestly not too bad, I could've expected a lot worse, especially when switching from completely variant langauges, such as from French to Arabic, but I think ChatGPT stuck it through. It didn't do too poorly compared to Google translate, whose final output of the original sentence following 10 translations was exactly correct: The king's dog usually drinks chocolate milk.\" So I guess ChatGPT DOES need langauge lessons, just not too many I guess."
   ]
  }
 ],
 "metadata": {
  "kernelspec": {
   "display_name": "Python 3-12 (COMM4190)",
   "language": "python",
   "name": "python3-12_comm4190"
  },
  "language_info": {
   "codemirror_mode": {
    "name": "ipython",
    "version": 3
   },
   "file_extension": ".py",
   "mimetype": "text/x-python",
   "name": "python",
   "nbconvert_exporter": "python",
   "pygments_lexer": "ipython3",
   "version": "3.12.8"
  }
 },
 "nbformat": 4,
 "nbformat_minor": 5
}
