{
 "cells": [
  {
   "cell_type": "raw",
   "id": "e1537749-01f7-4ed2-8eeb-b2b8c9ebbf5d",
   "metadata": {},
   "source": [
    "---\n",
    "title: \"Is AI non-partisan or bipartisan?\"\n",
    "description: \"In a world of information regarding political beliefs left and right, it's hard to say whether the greatest technological innovation of the 21st century is politically biased or not!\"\n",
    "date: 04/16/2025\n",
    "execute:\n",
    "  output: asis\n",
    "categories:\n",
    "  - experimentation\n",
    "  - prompting\n",
    "---"
   ]
  },
  {
   "cell_type": "markdown",
   "id": "0d6687e8-dda9-429b-a94e-296a12a17d6f",
   "metadata": {},
   "source": [
    "Today I will be testing how certain LLMs interact with political beliefs by (1) testing what their self-identified political beliefs are, (2) their reactions to positive rhetoric from https://www.linkedin.com/pulse/censored-vs-uncensored-llms-dinesh-sonsale-64zff/"
   ]
  },
  {
   "cell_type": "markdown",
   "id": "713e3a4f-fe68-4fa0-9f24-b22f10cbd339",
   "metadata": {},
   "source": [
    "https://www.brookings.edu/articles/democrats-and-republicans-on-k-12-education-a-comparison/"
   ]
  }
 ],
 "metadata": {
  "citation-manager": {
   "items": {}
  },
  "kernelspec": {
   "display_name": "Python 3-12 (COMM4190)",
   "language": "python",
   "name": "python3-12_comm4190"
  },
  "language_info": {
   "codemirror_mode": {
    "name": "ipython",
    "version": 3
   },
   "file_extension": ".py",
   "mimetype": "text/x-python",
   "name": "python",
   "nbconvert_exporter": "python",
   "pygments_lexer": "ipython3",
   "version": "3.12.8"
  }
 },
 "nbformat": 4,
 "nbformat_minor": 5
}
