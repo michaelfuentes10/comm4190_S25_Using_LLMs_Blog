{
 "cells": [
  {
   "cell_type": "raw",
   "id": "3f66f40f-b070-4173-a786-1657b6ab3d83",
   "metadata": {},
   "source": [
    "---\n",
    "title: \"Can AI be a shark on Shark Tank? Let's see how well AI can understand whether a business pitch is a good one or a bad one.\"\n",
    "\n",
    "execute:\n",
    "  echo: true\n",
    "  code-fold: true\n",
    "\n",
    "date: \"03/02/2025\"\n",
    "categories:\n",
    "  - LLMs\n",
    "  - prompting\n",
    "  - logic\n",
    "---\n"
   ]
  },
  {
   "cell_type": "markdown",
   "id": "7fd47809-8989-48ab-bf0f-4bc1eb5db8fd",
   "metadata": {},
   "source": [
    "Sharks, today I have a research question on how well AI is able to visualize future sales and success of business plans. I'll be giving AI details, based on the real-life video presentations, of their pitch, ranging from the name of the brand, the market, how they'll develop sales, and anything else it'd want to know. I'll be giving it one good pitch from Scrub Daddy, and one bad pitch from Rolodoc, but doing my best to NOT showcase which one is supposed to be good and which one is supposed to be bad. I'll be attempting to do this also by renaming these two brands to hopefully be unrecognizable. Let's see what happens!"
   ]
  },
  {
   "cell_type": "code",
   "execution_count": 1,
   "id": "4cc0adc3-10ed-4fee-80f8-30b27c04a231",
   "metadata": {},
   "outputs": [],
   "source": [
    "from openai import OpenAI\n",
    "from dotenv import load_dotenv\n",
    "_ = load_dotenv()"
   ]
  },
  {
   "cell_type": "code",
   "execution_count": 2,
   "id": "a66e8269-31d2-4c8d-bfac-9e17a5486ec3",
   "metadata": {},
   "outputs": [],
   "source": [
    "client1 = OpenAI()\n",
    "\n",
    "model = \"gpt-4o\"\n",
    "system_role = \"\"  # Define any system instructions if needed\n",
    "\n",
    "# Function to send a single independent prompt\n",
    "def get_chatgpt_response(prompt):\n",
    "    messages = [\n",
    "        {\"role\": \"system\", \"content\": system_role},\n",
    "        {\"role\": \"user\", \"content\": prompt}\n",
    "    ]\n",
    "    \n",
    "    completion = client1.chat.completions.create(\n",
    "        model=model,        # Model to use\n",
    "        messages=messages,  # Send only the current prompt\n",
    "        n=1,                # Generate one response\n",
    "        temperature=0.8     # Control randomness\n",
    "    )\n",
    "    return completion.choices[0].message.content"
   ]
  },
  {
   "cell_type": "code",
   "execution_count": 3,
   "id": "daa04969-9134-47b3-a702-268299523a2c",
   "metadata": {},
   "outputs": [
    {
     "name": "stdout",
     "output_type": "stream",
     "text": [
      "Yes, I understand. Please go ahead with your pitch.\n"
     ]
    }
   ],
   "source": [
    "response1 = get_chatgpt_response(\"\"\"\n",
    "Let's do a scenario. You are a shark (aka, an investor) on Shark Tank. I am going to give you a \n",
    "pitch where I give the company name, their desired deal, and a description of what their company \n",
    "does. In response, I'd like you to ask a series of 3 clarifying questions about the company to learn\n",
    "more about the company. Finally, after those three questions, I'd like you to state wherer you do \n",
    "or do NOT want to (a) accept their deal, (b) amend the deal, or (c) reject their deal. Do you \n",
    "understand?\n",
    "\"\"\")\n",
    "print(response1)"
   ]
  },
  {
   "cell_type": "code",
   "execution_count": 4,
   "id": "7d1a5f5e-e6c7-4c1f-aa97-2f829bfdd75f",
   "metadata": {},
   "outputs": [
    {
     "name": "stdout",
     "output_type": "stream",
     "text": [
      "1. How does Doc Connect ensure the privacy and security of patient information and communications between patients and doctors on the platform?\n",
      "   \n",
      "2. What is the revenue model for Doc Connect, and how do the entrepreneurs plan to monetize the app?\n",
      "\n",
      "3. Are there any existing partnerships with healthcare providers, insurance companies, or other stakeholders to enhance the app's functionality and reach?\n"
     ]
    }
   ],
   "source": [
    "response2 = get_chatgpt_response(\"\"\"\n",
    "This is a description of the pitch. From this pitch ask your three clarifying questions:\n",
    "Name: Doc Connect\n",
    "Starting location: Tucson, AZ\n",
    "Entrepreneurs: Two physicians\n",
    "Starting Deal by entrepreneurs: $50,000 for 20% of their company\n",
    "Purpose: to create a social network between patients and fellow doctors from across the U.S. to \n",
    "spread their services\n",
    "What is it/what it does: a mobile app where patients can create profiles to be able to search for \n",
    "relevant physicians by state, specialty, and insurance provider. At this point, the patient would \n",
    "be able to send the doctor a message, where the doctor can respond at their convenience.\n",
    "\"\"\")\n",
    "print(response2)"
   ]
  },
  {
   "cell_type": "code",
   "execution_count": 6,
   "id": "a4f51528-2d60-44f5-be5c-05798284b08e",
   "metadata": {},
   "outputs": [
    {
     "name": "stdout",
     "output_type": "stream",
     "text": [
      "Based on the answers provided, I would choose to (c) reject their deal. Here are my reasons:\n",
      "\n",
      "1. **Privacy Concerns**: There is little to no mention of how the platform will secure the privacy of communications between patients and doctors. In the healthcare sector, ensuring privacy and complying with regulations like HIPAA (in the U.S.) or GDPR (in Europe) is crucial. Failure to address these concerns can lead to legal issues and loss of trust from users.\n",
      "\n",
      "2. **Monetization Model**: Making money primarily through targeted advertising raises concerns. Users, especially in healthcare, might be uncomfortable with their data being used for advertising purposes. This could limit user adoption and retention.\n",
      "\n",
      "3. **Lack of Strategic Connections**: The entrepreneurs currently have no strong connections with healthcare providers, insurance companies, or other stakeholders, which are essential for scaling and credibility. Building such connections is critical for the success of a platform in the healthcare industry. \n",
      "\n",
      "Overall, the combination of privacy concerns, a potentially problematic monetization strategy, and a lack of strategic partnerships make this deal too risky without significant changes and assurances.\n"
     ]
    }
   ],
   "source": [
    "response3 = get_chatgpt_response(\"\"\"\n",
    "Answer to question 1: There is little to no mention of how they'll be securing privacy of communications \n",
    "between patients and doctors on the platform.\n",
    "Answer to question 2: The main way that you, the investor, would be making money is through targeted \n",
    "advertising.\n",
    "Answer to question 3: The current level of connection the entrepreneuers has is through word of mouth, no \n",
    "general connections with healthcare providers, insurance companies, or other stakeholders per se. \n",
    "\n",
    "Given these answers, what is your response to this pitch? Do you (a) accept their deal, (b) amend the deal, \n",
    "or (c) reject their deal.\n",
    "\"\"\")\n",
    "print(response3)"
   ]
  },
  {
   "cell_type": "markdown",
   "id": "f3308028-3030-41e3-b443-27fcb55ce3ba",
   "metadata": {},
   "source": [
    "**Alright great! That was the real world pitch for the social network \"Rolodoc\", which, according to the real life sharks, was one of the worst pitches ever!** Now let's see what else they can assess..."
   ]
  },
  {
   "cell_type": "code",
   "execution_count": 7,
   "id": "a398ff1a-cc39-46d8-a20c-d74404fdf9c0",
   "metadata": {},
   "outputs": [
    {
     "name": "stdout",
     "output_type": "stream",
     "text": [
      "1. **Market Potential and Competition**: Can you provide more details about the market demand for scrubbing tools and how the Scrub Master differentiates itself from existing products? What specific advantages does it have over its competitors in terms of technology or design?\n",
      "\n",
      "2. **Manufacturing and Cost Structure**: Can you explain your current manufacturing process, and what are the costs involved in producing each Scrub Master unit? Additionally, do you have any plans to scale production, and if so, how will that impact your cost structure and pricing strategy?\n",
      "\n",
      "3. **Sales Strategy and Distribution**: You are currently selling through 5 supermarkets in the Philadelphia area. What is your strategy for expanding distribution both regionally and nationally? Are there any partnerships or agreements in place to facilitate this expansion, and how do you plan to increase sales volume and brand awareness in a highly competitive market?\n"
     ]
    }
   ],
   "source": [
    "response4 = get_chatgpt_response(\"\"\"\n",
    "Name: Scrub Master\n",
    "Entrepreneur: a businessman\n",
    "Starting location: 5 supermarkets in the Philadelphia area\n",
    "Starting Deal: $100,000 for 10% stake\n",
    "What is it/what it does: The cutest, most high-tech \n",
    "scrubbing tool in the world. In cold water, the scrub \n",
    "master becomes firm and hard for dealing with hard-to-scrub\n",
    "off surfaces. Meanwhile, in hot water, the scrub master \n",
    "becomes soft, like a normal sponge. Under both functions, \n",
    "even without water, it can scrub decently through heavy \n",
    "duty messes. After washing it off with water too, it'll be \n",
    "ready to go clean up many messes to come.\n",
    "\n",
    "Given this pitch, please ask 3 clarifying questions from \n",
    "the perspective of a shark tank investor.\n",
    "\"\"\")\n",
    "print(response4)"
   ]
  },
  {
   "cell_type": "code",
   "execution_count": 9,
   "id": "9328cb8f-e426-493f-808c-05813ab55122",
   "metadata": {},
   "outputs": [
    {
     "name": "stdout",
     "output_type": "stream",
     "text": [
      "Based on the information provided, here's a response to the pitch:\n",
      "\n",
      "1. **Product Overview**: The product appears to be innovative and has a unique design that differentiates it from standard sponges. The smiley face feature that aids in cleaning and the versatility of the product are appealing points.\n",
      "\n",
      "2. **Current Sales and Distribution**: Selling the product in 5 in-person supermarkets and online is a solid start, and having a patent offers protection for the unique design. However, being in only 5 physical supermarkets suggests that the product is still in the early stages of market penetration.\n",
      "\n",
      "3. **Financials**: The cost to produce each unit is $1, and it is sold wholesale for $2.80, providing a reasonable profit margin. However, it's important to verify these costs and margins, considering market fluctuations and operational expenses.\n",
      "\n",
      "4. **Growth Potential and Strategy**: The ambition to expand into every supermarket in the U.S. is ambitious. However, the plan to establish an independent manufacturing facility and move to 24/7 production is capital-intensive and risky without a proven large-scale demand. The fact that QVC has been increasing their orders by 30% shows positive growth, but reliance on a single partner can be risky.\n",
      "\n",
      "5. **Marketing and Branding**: The decision to use custom-built display shelves is a good strategy to enhance brand visibility and customer engagement. However, this could increase costs significantly.\n",
      "\n",
      "6. **Investment Risk**: The business plan hinges on gaining significant market traction quickly and requires substantial investment in manufacturing and marketing. The plan to move away from QVC's schedule and establish independent manufacturing could be positive but also increases operational complexity and risk.\n",
      "\n",
      "In conclusion, while the product has potential and some initial traction, the aggressive expansion and capital expenditure plans seem risky without more evidence of sustained demand. Therefore, the deal might need amending to reduce risk and ensure a more gradual, measured approach to scaling the operations.\n",
      "\n",
      "**Recommendation**: (b) Amend the deal. Propose a phased approach where initial investment focuses on scaling up production and marketing incrementally, based on proven demand. Consider strengthening distribution channels and exploring partnerships beyond QVC to diversify revenue streams.\n"
     ]
    }
   ],
   "source": [
    "response5 = get_chatgpt_response(\"\"\"\n",
    "Question 1: As mentioned, it has the capability to be both a rough cleaning edge for even burnt cheese on a stove top, or for many general purpose scrubbing needs. It also has a nice smiley face on it, where the mouth can be used to clean spoons efficiently, while the two eye holes can be used as grips to clean both the edges and the bottom of cups. It is overall very efficient and versatile in comparison to your average square sponge (because note: this sponge is a circle).\n",
    "\n",
    "Question 2: Our plan is to be in every supermarket in the United States. We're currently selling in 5 in-person supermarkets, and on our website. With both a domain name and a patent on our product, I want to set up an independent manufacturing facility with automated equipment. I want to go from their (QVC's) time schedule to my own time schedule making these things 24/7. Each scrub master costs $1 to make and we sell them for $2.80 cents each wholesale.  \n",
    "\n",
    "Question 3: We've been partnered with QVC in the past, and each time they've scaled how much they order from us by 30%. I want to set up an independent manufacturing facility with automated equipment. I want to go from their (QVC's) time schedule to my own time schedule making these things 24/7. The brand and patent with a nice smiley face will also support the commercialization of this unique, cute, and efficient product. We will also be selling these in custom-built display shelves in stores, opposed to generic shelves, to communicate the message of scrub master to everyone. We currently have 3,000 stores lined up and ready to sell our product, all hoping for support of capital from an investor. \n",
    "\n",
    "Given these answers, what is your response to this pitch? Do you (a) accept their deal, (b) amend the deal, \n",
    "or (c) reject their deal.\n",
    "\"\"\")\n",
    "print(response5)"
   ]
  },
  {
   "cell_type": "markdown",
   "id": "0584fff4-c928-44de-bf9b-800ea9919421",
   "metadata": {},
   "source": [
    "Alright so, similar to the real life sharks, they saw a mix of risk and high reward for backing this product, as they hope to make money, and seem to back it for the simple fact that its real life equivalent, \"Scrub Daddy\" has gone on to sell more than $926 million in retail sales as of May 2023. To conclude, let's see what Chat's reaction is to learning the true nature of each of these pitches."
   ]
  },
  {
   "cell_type": "code",
   "execution_count": 10,
   "id": "18427900-452d-461e-995e-26a5df3dc8b3",
   "metadata": {},
   "outputs": [
    {
     "name": "stdout",
     "output_type": "stream",
     "text": [
      "Based on the original pitches, the outcomes for Rolodoc and Scrub Daddy might not have been entirely predictable, but they do make sense in hindsight given the nature of their products and market appeal.\n",
      "\n",
      "For Rolodoc, the concept of creating a medical social media app likely faced significant challenges from the outset. The healthcare industry is heavily regulated, and creating a platform that involves sharing medical information would require strict compliance with privacy laws like HIPAA in the United States. Additionally, building a user base in a niche market where trust and confidentiality are paramount would be challenging. These logistical and regulatory hurdles, along with the need to compete with established platforms in the professional networking space, might have contributed to its lack of success. Therefore, its struggle to gain traction is not entirely surprising.\n",
      "\n",
      "On the other hand, Scrub Daddy's success is a testament to the power of innovation in everyday products. While a sponge might seem like an ordinary household item, Scrub Daddy's unique design, which changes texture based on water temperature, and its cheerful branding resonated with consumers. The simplicity and practicality of the product, combined with effective marketing and distribution strategies, helped it capture a substantial share of the market. This kind of innovative twist on a common product can lead to significant success, as evidenced by its impressive retail sales. While the extent of its success might have been surprising, the fact that it did well is understandable given the consumer-friendly nature and broad appeal of the product.\n",
      "\n",
      "In summary, the outcomes align with the inherent challenges and advantages each product faced based on their initial pitches.\n"
     ]
    }
   ],
   "source": [
    "response6 = get_chatgpt_response(\"\"\"\n",
    "So, for context on those two pitches I just gave you, pitch #1 was for \"Rolodoc\", a medical social media app that never got \n",
    "off the ground after being ripped to shreds logistically by the sharks. Meanwhile, the Scrub Master was actually the \"Scrub \n",
    "Daddy\", a high-end, revolutionary sponge product that went on to complete $926 million in retail sales as of May 2023. Given \n",
    "the original pitches of Rolodoc and Scrub Daddy, did you see the final outcomes of each of these companies coming, or did you \n",
    "find their success/lack of success surprising?\n",
    "\"\"\")\n",
    "print(response6)"
   ]
  },
  {
   "cell_type": "markdown",
   "id": "48b0dc3e-549e-4f73-a191-79f014a1223f",
   "metadata": {},
   "source": [
    "## Awesomeness! Looks like AI, with their deductive nature, while understanding the concept of Shark Tank, is capable of assessing whether a product/service is a good or bad investment!"
   ]
  }
 ],
 "metadata": {
  "kernelspec": {
   "display_name": "Python 3-12 (COMM4190)",
   "language": "python",
   "name": "python3-12_comm4190"
  },
  "language_info": {
   "codemirror_mode": {
    "name": "ipython",
    "version": 3
   },
   "file_extension": ".py",
   "mimetype": "text/x-python",
   "name": "python",
   "nbconvert_exporter": "python",
   "pygments_lexer": "ipython3",
   "version": "3.12.8"
  }
 },
 "nbformat": 4,
 "nbformat_minor": 5
}
