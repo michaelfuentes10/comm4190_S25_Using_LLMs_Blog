{
 "cells": [
  {
   "cell_type": "raw",
   "id": "9ca7ccaf-93c3-45cb-a2a1-5d6661e458a5",
   "metadata": {},
   "source": [
    "---\n",
    "title: \"Does AI have an ego?\"\n",
    "description: \"Some say an ego can be helpful, but let's find out if AI LLMs use their knowledge base to flex on us mortals.\"\n",
    "date: \"4/04/2025\"\n",
    "execute:\n",
    "  output: asis\n",
    "categories:\n",
    "  - prompting\n",
    "  - conversation\n",
    "---"
   ]
  },
  {
   "attachments": {
    "6b46a101-2892-410a-bed8-ebe45eec28c2.png": {
     "image/png": "[encoded data removed]"
    }
   },
   "cell_type": "markdown",
   "id": "8716a8d4-0680-4ede-928f-711ea8dc771c",
   "metadata": {},
   "source": [
    "![Ego?.png](attachment:6b46a101-2892-410a-bed8-ebe45eec28c2.png)"
   ]
  },
  {
   "cell_type": "markdown",
   "id": "e1d028e2-4b00-4c54-888a-bbaa4e8f8097",
   "metadata": {},
   "source": [
    "As we have seen in some prior blogs, such as \"How does ChatGPT react to ignorance?\", "
   ]
  },
  {
   "cell_type": "code",
   "execution_count": null,
   "id": "3aed2195-316f-4b8e-afe2-d8a0c0866b8d",
   "metadata": {},
   "outputs": [],
   "source": []
  }
 ],
 "metadata": {
  "citation-manager": {
   "items": {}
  },
  "kernelspec": {
   "display_name": "Python 3-12 (COMM4190)",
   "language": "python",
   "name": "python3-12_comm4190"
  },
  "language_info": {
   "codemirror_mode": {
    "name": "ipython",
    "version": 3
   },
   "file_extension": ".py",
   "mimetype": "text/x-python",
   "name": "python",
   "nbconvert_exporter": "python",
   "pygments_lexer": "ipython3",
   "version": "3.12.8"
  }
 },
 "nbformat": 4,
 "nbformat_minor": 5
}
