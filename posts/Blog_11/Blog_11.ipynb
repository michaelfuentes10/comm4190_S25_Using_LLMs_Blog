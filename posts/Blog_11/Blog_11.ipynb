{
 "cells": [
  {
   "cell_type": "raw",
   "id": "9ca7ccaf-93c3-45cb-a2a1-5d6661e458a5",
   "metadata": {},
   "source": [
    "---\n",
    "title: \"Does AI have an ego?\"\n",
    "description: \"Some say an ego can be helpful, but let's find out if AI LLMs use their knowledge base to flex on us mortals.\"\n",
    "date: \"4/04/2025\"\n",
    "execute:\n",
    "  output: asis\n",
    "categories:\n",
    "  - prompting\n",
    "  - conversation\n",
    "---"
   ]
  },
  {
   "cell_type": "code",
   "execution_count": null,
   "id": "d6204679-8826-44c7-8d42-c556280a4828",
   "metadata": {},
   "outputs": [],
   "source": []
  }
 ],
 "metadata": {
  "citation-manager": {
   "items": {}
  },
  "kernelspec": {
   "display_name": "Python 3-12 (COMM4190)",
   "language": "python",
   "name": "python3-12_comm4190"
  },
  "language_info": {
   "codemirror_mode": {
    "name": "ipython",
    "version": 3
   },
   "file_extension": ".py",
   "mimetype": "text/x-python",
   "name": "python",
   "nbconvert_exporter": "python",
   "pygments_lexer": "ipython3",
   "version": "3.12.8"
  }
 },
 "nbformat": 4,
 "nbformat_minor": 5
}
