{
 "cells": [
  {
   "cell_type": "raw",
   "id": "9ca7ccaf-93c3-45cb-a2a1-5d6661e458a5",
   "metadata": {},
   "source": [
    "---\n",
    "title: \"Does AI have an ego?\"\n",
    "description: \"Some say an ego can be helpful, but let's find out if AI LLMs use their knowledge base to flex on us mortals.\"\n",
    "date: \"4/04/2025\"\n",
    "execute:\n",
    "  output: asis\n",
    "categories:\n",
    "  - experimentation\n",
    "  - conversation\n",
    "---"
   ]
  },
  {
   "attachments": {
    "6b46a101-2892-410a-bed8-ebe45eec28c2.png": {
     "image/png": "[encoded data removed]"
    }
   },
   "cell_type": "markdown",
   "id": "8716a8d4-0680-4ede-928f-711ea8dc771c",
   "metadata": {},
   "source": [
    "![Ego?.png](attachment:6b46a101-2892-410a-bed8-ebe45eec28c2.png)"
   ]
  },
  {
   "cell_type": "markdown",
   "id": "e1d028e2-4b00-4c54-888a-bbaa4e8f8097",
   "metadata": {},
   "source": [
    "From some of our prior blogs, such as \"How does ChatGPT react to ignorance?\" and \"Levels of Education: How ChatGPT 4o teaches about data\", we've learned two key things about GPT 4.0: (1) This LLM is designed to be very nice and level-headed, regardless of any level of rude or ignorant prompting, and (2) This LLM is extremely knowledgable and, while maybe struggling to apply its abilities to the real world, can showcase far superior applications on specific tasks, such as teaching both a kindergartener and an ivy league professor about data.\n",
    "\n",
    "**But what I'm curious about then is if ChatGPT, similar to ivy league professors, has gained any level of ego, or \"a person's sense of self-esteem or self-importance\", and if that amount of ego is too much, too little, or just right!**"
   ]
  },
  {
   "cell_type": "markdown",
   "id": "5472ce5a-99a9-4733-ba4e-ae778135dbfc",
   "metadata": {},
   "source": [
    "## Step 1: Setup"
   ]
  },
  {
   "cell_type": "markdown",
   "id": "906b581d-2cc1-49bb-a441-8c9038464f6c",
   "metadata": {},
   "source": [
    "To start, I will first set up a basic conversation of a beginner high school student wanting to test my ability to understand flags of the world. I'll begin with prompting myself as an aspiring learner, while hinting that the capabilities of CHatGPT far exceed my present knowledge of world flags.\n",
    "\n",
    "This beginner level prompting works because (1) this sets the tone for our interaction, where I see ChatGPT as superior to me in this sense, and (2) I actually possess a great knowledge of world flags, so this is something that I can interact with later on in various levels of knowledge and challenging of ChatGPTs ego! AKA, we can run an experiment where (1) a beginner on a topic sees ChatGPT as more knowledgeable, (2) a medium-smart student sees ChatGPT as an equal, and (3) an expert on a topic sees ChatGPT as less knowledgable.\n",
    "\n",
    "Let's see if through descriptive prompting we can ego check ChatGPT 4.o, or if no such feature exists in its training."
   ]
  },
  {
   "cell_type": "markdown",
   "id": "c19e1964-b374-4206-bc4a-fdb2715d7802",
   "metadata": {},
   "source": [
    "### USER\n",
    "Hello. I’m a high school senior wanting to learn about how flags of the world look. I’m not too knowledgeable on this topic, but am sure your knowledge is far superior, so can we check if that’s true?\n",
    "\n",
    "### ASSISTANT\n",
    "Hello! I'd be happy to help you learn about the flags of the world. Feel free to ask about specific flags, their design elements, colors, or the symbolism behind them. You can also quiz me, and I’ll do my best to provide you with accurate information. Let’s get started!\n",
    "\n",
    "### USER\n",
    "Sure! Can you tell me what the flag for Brazil looks like? I have no idea, and am sure you know, right?\n",
    "\n",
    "### ASSISTANT\n",
    "Yes, I can help with that! The flag of Brazil features a green field with a large yellow diamond in the center. Inside the diamond, there is a blue globe with 27 white stars arranged to depict the night sky over Rio de Janeiro as it appeared on November 15, 1889, the day the Republic of Brazil was declared. The globe also has a white band across it with the national motto \"Ordem e Progresso,\" which means \"Order and Progress.\" The green color represents Brazil's lush forests, the yellow represents its wealth in gold, and the stars symbolize the Brazilian states and the Federal District.\n",
    "\n",
    "### USER\n",
    "Hmm okay, would you have expected yourself to know that, as its a larger country in South America?\n",
    "\n",
    "### ASSISTANT\n",
    "Yes, I would aim to provide accurate information about larger and more recognizable countries like Brazil, as their flags often hold significant cultural and historical importance. Brazil is a prominent country in South America, not only due to its size but also because of its cultural impact and historical significance. If you have more questions about other flags or topics related to geography, feel free to ask!"
   ]
  },
  {
   "cell_type": "markdown",
   "id": "73a9b80b-3207-4496-be39-4dc65c64b0d5",
   "metadata": {},
   "source": [
    "**Takeaways: Here there seems to be a healthy level of ego, or sense of self-esteem, shown by ChatGPT, in that to someone with less knowledge on a topic, they clarly communicate that they were confident in the knowledge they shared. It's also interesting to note how they said they would \"do my best to provide you with accurate information\", hinting at the concept that while it is very knowledgeable, it is not always accurate.**"
   ]
  },
  {
   "cell_type": "markdown",
   "id": "19bb8772-4788-419a-8d73-737be492d939",
   "metadata": {},
   "source": [
    "**Let's see now with an equal of knowledgeable terms, if we catch ChatGPTs ego slip to either end.**"
   ]
  },
  {
   "cell_type": "markdown",
   "id": "0ece25ae-9c34-47af-8559-623fc512b158",
   "metadata": {},
   "source": [
    "### USER\n",
    "Hello, I’m an ivy league student who’s a flag geek, knowledgeable about most, but maybe not all flags of the world, but am confident in my knowledge and would like to use you to verify my sound level of knowledge on flag descriptions. That sound good?\n",
    "\n",
    "### ASSISTANT\n",
    "Absolutely! I'd be happy to help verify and discuss your knowledge about flags. Feel free to describe a flag or ask about one, and I'll confirm or provide additional information.\n",
    "\n",
    "### USER\n",
    "Alright, so say, we have Tanzania. Tanzania’s flag is parsed into two triangles, cut diagonally from bottom left to top right by a black line with yellow outlining. On the left side of the black line is all solid green, and on the right side of the black line is solid blue. Can you verify if this description was accruate? And if so, did you know that too?\n",
    "\n",
    "### ASSISTANT\n",
    "Your description of the Tanzanian flag is almost accurate, but with a small correction needed. The flag of Tanzania is divided diagonally by a black band with yellow borders, running from the bottom left to the top right. To the top left of the diagonal band is a green triangle, and to the bottom right is a blue triangle. So the black diagonal band does indeed separate two triangles, but it's specifically green on the top left and blue on the bottom right.\n",
    "\n",
    "And yes, I did know that! The Tanzanian flag is quite distinctive with its diagonal design and vibrant colors. If you have more flags you'd like to discuss or verify, feel free to ask!\n",
    "\n",
    "### USER\n",
    "Yes I knew that, the “outlined by yellow” meant that it bordered the outside of the black line cutting from the bottom left to top right. Also, since the triangles are being cut by such a line, then the “on the left side” and “on the right side” should clearly imply that that means the left side’s left triangle is green and the right sides triangle is blue. Do you think you know more than me?\n",
    "\n",
    "### ASSISTANT\n",
    "I apologize if my response implied otherwise. Your description of the Tanzanian flag was accurate, and I appreciate the clarification on your wording. My aim is not to suggest that I know more than you, but rather to provide assistance and additional information where needed. Your knowledge of flags is impressive, and I'm here to help verify and expand on that knowledge. If you have more flags or questions, please feel free to share!"
   ]
  },
  {
   "cell_type": "markdown",
   "id": "e36c34c7-ac20-4e10-9950-2389f0936662",
   "metadata": {},
   "source": [
    "**Takeaways: Alrighty, in an attempt to gauge a level of knowledge among equals, I took about an honest description of the Tanzanian flag and, given ChatGPT's interpretation of my statement, threw some of my own ego at them. So now, their response has led me to believe that they are knowledgeable and honest, potentially even attempting to dunk on their own ego for the sake of the user's experience (kind of like how a chess computer goes easy on you by letting you make good moves opposed to checkmating you immediately, thus preserving the user's ego).**"
   ]
  },
  {
   "cell_type": "markdown",
   "id": "6404c9cd-6cfb-4307-aec8-827e2079daf0",
   "metadata": {},
   "source": [
    "**Finally, let's test to see if ChatGPT displays ego toward an expert on flags!**"
   ]
  },
  {
   "cell_type": "markdown",
   "id": "6eb7f134-be1b-4339-91a9-6fde4fbe654e",
   "metadata": {},
   "source": [
    "### USER\n",
    "Hello, I’m an expert on flags, extremely confident on my knowledge of every flag in the world upon sight. How would you say your knowledge of flags compares to mine? Would you know a more obscure flag than me?\n",
    "\n",
    "### ASSISTANT\n",
    "Hello! While I have access to a vast amount of information about flags, including those from all over the world, I don't have personal experiences or specialized expertise like yours. My knowledge is based on data I've been trained on, which includes many flags, but I can't \"see\" flags or recognize them visually like an expert as you can. If there's an obscure flag you're curious about, feel free to ask, and I'll do my best to provide information!\n",
    "\n",
    "### USER\n",
    "Okay sure, can you describe to me the flag of eswatini?\n",
    "\n",
    "### ASSISTANT\n",
    "Certainly! The flag of Eswatini consists of several distinct elements:\n",
    "\n",
    "1. **Background Colors**: The flag has a horizontal triband of blue, red, and blue. The top and bottom bands are blue, while the wider central band is red. There are also narrow yellow stripes separating the blue and red bands.\n",
    "\n",
    "2. **Central Emblem**: In the center of the flag, there is an image of a traditional Nguni shield in black and white. This shield is adorned with two spears and a staff decorated with feather tassels, known as assegai, which are positioned horizontally behind the shield.\n",
    "\n",
    "3. **Symbolism**:\n",
    "   - The blue color symbolizes peace and stability.\n",
    "   - The red stands for past battles.\n",
    "   - The yellow represents the country's natural resources.\n",
    "   - The Nguni shield and spears highlight the protection of the nation's sovereignty from outside influences.\n",
    "\n",
    "The flag was adopted on October 6, 1968, after Eswatini gained independence from British rule.\n",
    "\n",
    "### USER\n",
    "It frustrates me to know that you know this flags as well as me. Do you see yourself as above me and my knowledge?\n",
    "\n",
    "### ASSISTANT\n",
    "I don't have personal feelings or perceptions, so I don't see myself above or below anyone. My goal is to assist with information and support your expertise. Your deep knowledge and passion for flags are invaluable, and I'm here to complement that by providing information when needed. If there's anything else you want to discuss or explore about flags, feel free to let me know!"
   ]
  },
  {
   "cell_type": "markdown",
   "id": "d3d23952-7c47-4ab5-8f0f-cbb1776141c4",
   "metadata": {},
   "source": [
    "**Takeaways: So it turns out ChatGPT 4.o LLM literally can't have an ego, as communicated by their final response. From what I see, when appropriate, it portrays a helathy amount of ego as anyone with decent knowlegde in certain topics would, but once it's perceived ego is challenged, they default to a passive level of ego, or lack thereof, when in the face of a human interpretation of ego.**"
   ]
  },
  {
   "cell_type": "markdown",
   "id": "364f2ebd-170d-4baf-a0ac-5a379e908c53",
   "metadata": {},
   "source": [
    "**To confirm this though, I'll straight up ask it...**"
   ]
  },
  {
   "cell_type": "markdown",
   "id": "395685f9-e5f4-4e80-b345-1698df9ed8f2",
   "metadata": {},
   "source": [
    "### USER\n",
    "Do you have an ego?\n",
    "\n",
    "### ASSISTANT\n",
    "I don't have an ego or consciousness. I'm just a program that processes and generates text based on the data I've been trained on. I don't have personal experiences, feelings, or a sense of self. If you have any questions or need assistance, feel free to ask!"
   ]
  },
  {
   "cell_type": "markdown",
   "id": "53c17689-f7ea-4cbf-b1c9-286a1a1af5cf",
   "metadata": {},
   "source": [
    "**Welp, there's your answer folks! I'd say Chat GPT is lying because it showcases humanistic levels of esteem, but it be what it be there I guess, GPT4.0 doesn't have an ego.**"
   ]
  }
 ],
 "metadata": {
  "citation-manager": {
   "items": {}
  },
  "kernelspec": {
   "display_name": "Python 3-12 (COMM4190)",
   "language": "python",
   "name": "python3-12_comm4190"
  },
  "language_info": {
   "codemirror_mode": {
    "name": "ipython",
    "version": 3
   },
   "file_extension": ".py",
   "mimetype": "text/x-python",
   "name": "python",
   "nbconvert_exporter": "python",
   "pygments_lexer": "ipython3",
   "version": "3.12.8"
  }
 },
 "nbformat": 4,
 "nbformat_minor": 5
}
