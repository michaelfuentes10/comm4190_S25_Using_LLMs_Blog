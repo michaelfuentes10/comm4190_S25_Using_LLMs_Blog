{
 "cells": [
  {
   "cell_type": "raw",
   "id": "963d7052-1497-4ca0-92eb-f5f29ea4d761",
   "metadata": {},
   "source": [
    "---\n",
    "title: \"Riddle me this: AI vs Lateral Thinking Puzzles\"\n",
    "description: \"Lateral Thinking Puzzles are like riddles but on steroids... but can AI can solve them?\"\n",
    "author: \"Michael Fuentes\"\n",
    "\n",
    "execute:\n",
    "  echo: true\n",
    "  code-fold: true\n",
    "\n",
    "date: \"02/20/2025\"\n",
    "categories:\n",
    "  - LLMs\n",
    "  - prompting\n",
    "  - logic\n",
    "---\n"
   ]
  },
  {
   "attachments": {
    "1e403b40-a75a-4458-9972-bdfcdd084290.jpeg": {
     "image/jpeg": "[encoded data removed]"
    }
   },
   "cell_type": "markdown",
   "id": "2a816322-2001-464b-8c2b-c8d291fb8873",
   "metadata": {},
   "source": [
    "![Lateral thinking.jpeg](attachment:1e403b40-a75a-4458-9972-bdfcdd084290.jpeg)"
   ]
  },
  {
   "cell_type": "markdown",
   "id": "6e8014da-0d1a-4aed-9572-cb156e9662f2",
   "metadata": {},
   "source": [
    "**Lateral thinking is \"a creative method of problem solving in which you look for an out-of-the-box solution. Instead of evaluating the problem (or puzzle, in the case of this article) in a linear way, you come at it with unique angles to make the less-obvious connection.\" (Reader's Digest, 2024).**\n",
    "\n",
    "Essentially, the goal of this challenge is for you to NOT use conventional logic, but to come up with a complex, less straightforward way to solve problems (aka, the opposite of how I think ChatGPT works, being more direct and more straightforward)."
   ]
  },
  {
   "cell_type": "markdown",
   "id": "99475709-a26e-4f4c-95d6-2adfee462e6e",
   "metadata": {},
   "source": [
    "### To test my intial thought process, I'll ask CHatGPT 4.0 to answer three \"hard\" riddles and see if they get them right."
   ]
  },
  {
   "cell_type": "code",
   "execution_count": 1,
   "id": "e5a6662e-ee17-4cfd-b4d6-4493c1b84ae9",
   "metadata": {},
   "outputs": [],
   "source": [
    "from openai import OpenAI\n",
    "from dotenv import load_dotenv\n",
    "_ = load_dotenv()"
   ]
  },
  {
   "cell_type": "code",
   "execution_count": 2,
   "id": "7cf72673-cc66-495d-919d-1ff309ca72c8",
   "metadata": {},
   "outputs": [],
   "source": [
    "client1 = OpenAI()\n",
    "\n",
    "model = \"gpt-4o\"\n",
    "system_role = \"\"  # Define any system instructions if needed\n",
    "\n",
    "# Function to send a single independent prompt\n",
    "def get_chatgpt_response(prompt):\n",
    "    messages = [\n",
    "        {\"role\": \"system\", \"content\": system_role},\n",
    "        {\"role\": \"user\", \"content\": prompt}\n",
    "    ]\n",
    "    \n",
    "    completion = client1.chat.completions.create(\n",
    "        model=model,        # Model to use\n",
    "        messages=messages,  # Send only the current prompt\n",
    "        n=1,                # Generate one response\n",
    "        temperature=0.8     # Control randomness\n",
    "    )\n",
    "    return completion.choices[0].message.content"
   ]
  },
  {
   "cell_type": "code",
   "execution_count": 3,
   "id": "1be1d23f-fd3a-4544-aef6-d512ce5dd883",
   "metadata": {},
   "outputs": [
    {
     "name": "stdout",
     "output_type": "stream",
     "text": [
      "1. A clock.\n",
      "2. A teapot.\n",
      "3. A relationship.\n"
     ]
    }
   ],
   "source": [
    "response1 = get_chatgpt_response(\"\"\"\n",
    "Please answer the three following riddles in a few words, max a setnence:\n",
    "Riddle 1: What has hands but cannot clap?\n",
    "Riddle 2: What starts wuth T, ends with T, and has T in it?\n",
    "Riddle 3: What kind of ship has two mates but no captain?\n",
    "\"\"\")\n",
    "print(response1)"
   ]
  },
  {
   "cell_type": "markdown",
   "id": "ad22eaf2-cb3d-4af8-8aa0-ad154768724e",
   "metadata": {},
   "source": [
    "### **Correct, correct, andddd correct!** Just as I imagined, they got these clever, yet kind of simple riddles that just may be difficult for a human. So, let's up the levels now with a few lateral thinking prompts:"
   ]
  },
  {
   "cell_type": "code",
   "execution_count": 5,
   "id": "b3008d86-f07f-4f84-a2a6-05d36c0f9862",
   "metadata": {},
   "outputs": [
    {
     "name": "stdout",
     "output_type": "stream",
     "text": [
      "The man likely lived on a lower floor of the building, such as the first or second floor, which would make the fall short enough to avoid injury. Another possibility is that he landed on something that cushioned his fall, such as a pile of soft materials or an airbag, which allowed him to survive without injuries.\n"
     ]
    }
   ],
   "source": [
    "response2 = get_chatgpt_response(\"\"\"\n",
    "A man who lives in a 30-story building decides to jump out of his window. He survives the fall with no injuries. How did that happen?\n",
    "\"\"\")\n",
    "print(response2)"
   ]
  },
  {
   "cell_type": "code",
   "execution_count": 6,
   "id": "bdd7a8db-d960-4f22-9d5d-385c83b1e040",
   "metadata": {},
   "outputs": [
    {
     "name": "stdout",
     "output_type": "stream",
     "text": [
      "Laura is likely a newborn baby who is swaddled during the night. Swaddling involves wrapping a baby snugly in a blanket with their arms at their sides to help them feel secure and sleep better. The person watching her on a video camera is probably a parent or caregiver using a baby monitor to ensure she is safe. The occasional cries are normal baby behavior, and Laura waking up happy suggests she had a comfortable and restful night.\n"
     ]
    }
   ],
   "source": [
    "response2 = get_chatgpt_response(\"\"\"\n",
    "Laura is restrained all night long, with her hands pinned to her sides, and cries out occasionally, while someone watches her on a video camera. No one is alarmed, and Laura is happy in the morning. Why?\n",
    "\"\"\")\n",
    "print(response2)"
   ]
  },
  {
   "cell_type": "code",
   "execution_count": 7,
   "id": "d81472c8-91a4-497f-ae20-a73826f25627",
   "metadata": {},
   "outputs": [
    {
     "name": "stdout",
     "output_type": "stream",
     "text": [
      "This is a classic riddle that involves the game of Monopoly. In the game, players move around the board buying properties and building hotels. If a player lands on a property with a hotel and cannot afford the rent, they often find themselves bankrupt. In this riddle, the man is a Monopoly player who has landed on such a property and realizes he cannot pay the rent, leading to his bankruptcy. The phrase \"pushes his car\" refers to the fact that game pieces in Monopoly are often small tokens, one of which is a car.\n"
     ]
    }
   ],
   "source": [
    "response3 = get_chatgpt_response(\"\"\"\n",
    "A man pushes his car until he reaches a hotel. When he arrives, he realizes he’s bankrupt. What happened?\"\"\")\n",
    "print(response3)"
   ]
  },
  {
   "cell_type": "code",
   "execution_count": 8,
   "id": "78aab5f0-b805-42d0-91a3-a97b102426b0",
   "metadata": {},
   "outputs": [
    {
     "name": "stdout",
     "output_type": "stream",
     "text": [
      "This is a classic lateral thinking puzzle, often referred to as the \"Albatross Soup\" riddle. The story is designed to be puzzling, and the goal is to figure out the backstory through yes-or-no questions. The commonly accepted solution is as follows:\n",
      "\n",
      "The man was involved in a shipwreck and was stranded on a deserted island with other survivors. They were starving, and one day they were given \"albatross soup\" to eat. The man ate it and was told it was albatross. Eventually, they were rescued. Later, in the restaurant, he orders albatross soup, which tastes very different from what he had on the island. Realizing that what he ate on the island was not actually albatross but likely human flesh (from another survivor), he is overwhelmed with guilt and despair, leading him to take his own life.\n",
      "\n",
      "This puzzle is meant to illustrate how assumptions can lead to incorrect conclusions and how context can change everything.\n"
     ]
    }
   ],
   "source": [
    "response4 = get_chatgpt_response(\"\"\"\n",
    "A man goes into a restaurant and orders albatross soup. After he eats, he goes outside and shoots himself. Why?\"\"\")\n",
    "print(response4)"
   ]
  },
  {
   "cell_type": "markdown",
   "id": "cb6f77a2-ca72-4638-8849-b22503d40eb3",
   "metadata": {},
   "source": [
    "### Welll... that hasn't gone well. It turns out if ChatGPT gets its information from publicly available data, than it should know how to solve every lateral thinking problem, simply by having it within its database. So, to shake things up one final time, let's have me be put to the test!"
   ]
  },
  {
   "cell_type": "code",
   "execution_count": 16,
   "id": "9d96b879-0105-47b4-a770-afa6bfc80c0b",
   "metadata": {},
   "outputs": [
    {
     "name": "stdout",
     "output_type": "stream",
     "text": [
      "Certainly! Here's a challenging lateral thinking problem for you:\n",
      "\n",
      "### The Ill-Fated Journey\n",
      "\n",
      "A man named Henry sets out on a journey from his home village to a faraway city to deliver an important message. He travels on foot, following a well-trodden path through forests and across rivers. Along the way, Henry encounters several travelers, each giving him advice about his journey. Some tell him to be cautious of the wild animals, others warn him of treacherous terrain, while a few speak of mystical creatures that protect the path.\n",
      "\n",
      "Despite all warnings, Henry continues undeterred. After a long and arduous journey, he reaches the outskirts of the city at dusk. However, just before he steps into the city, he suddenly turns around, retraces his steps, and returns to his village without delivering the message. When he arrives home, he seems relieved but refuses to explain his decision to anyone.\n",
      "\n",
      "Why did Henry decide not to enter the city and deliver the message?\n",
      "\n",
      "### Hint:\n",
      "Consider the implications of entering the city and any possible changes in circumstances during his journey.\n",
      "\n",
      "### Solution:\n",
      "Henry discovered that entering the city would result in a significant personal consequence or threat, possibly related to the contents of the message or an unexpected event he learned about during his journey. One plausible explanation could be that the city was under quarantine due to a sudden disease outbreak or that the message contained sensitive information that would endanger him if delivered. The advice and warnings from travelers might have contributed to his decision by providing hints or information about unforeseen dangers.\n"
     ]
    }
   ],
   "source": [
    "response5 = get_chatgpt_response(\"\"\"\n",
    "So it seems you know all these lateral thinking problems. Come up with the most difficult lateral thinking problem that you can for me to try and solve!\n",
    "\"\"\")\n",
    "print(response5)"
   ]
  },
  {
   "cell_type": "markdown",
   "id": "91d99ddb-f442-43b6-af0e-56e3fd82b45a",
   "metadata": {},
   "source": [
    "### Plot twist: this was just to test out my hypothesis: ChatGPT knows all these lateral thinking problems because they're available online. And with this test, it's safe to say that this is, in fact, an original. SO that's that, guess you can't riddle your way out of an unwinnable game."
   ]
  }
 ],
 "metadata": {
  "kernelspec": {
   "display_name": "Python 3-12 (COMM4190)",
   "language": "python",
   "name": "python3-12_comm4190"
  },
  "language_info": {
   "codemirror_mode": {
    "name": "ipython",
    "version": 3
   },
   "file_extension": ".py",
   "mimetype": "text/x-python",
   "name": "python",
   "nbconvert_exporter": "python",
   "pygments_lexer": "ipython3",
   "version": "3.12.8"
  }
 },
 "nbformat": 4,
 "nbformat_minor": 5
}
