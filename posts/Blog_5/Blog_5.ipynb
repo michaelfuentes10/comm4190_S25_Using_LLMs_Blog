{
 "cells": [
  {
   "cell_type": "raw",
   "id": "1e0157c7-3c0d-48d8-8370-5e8ac4d86387",
   "metadata": {},
   "source": [
    "---\n",
    "title: \"How does Claude interpret different lingo/slang?\"\n",
    "description: 'While one generation may say \"go crazy\", another may say \"crash out\". Question is, does Claude know about this lingo and how to use it?'\n",
    "date: \"2/16/2025\"\n",
    "execute:\n",
    "  output: asis\n",
    "format:\n",
    "  html:\n",
    "    code-overflow: wrap\n",
    "categories:\n",
    "  - LLMs\n",
    "  - prompting\n",
    "  - logic\n",
    "---\n"
   ]
  },
  {
   "attachments": {
    "17378097-f3c9-43eb-877f-cdb9e51e5d22.png": {
     "image/png": "[encoded data removed]"
    }
   },
   "cell_type": "markdown",
   "id": "18779c36-0c86-40b6-b6fc-f9d095fecad9",
   "metadata": {},
   "source": [
    "![Generations picture.png](attachment:17378097-f3c9-43eb-877f-cdb9e51e5d22.png)"
   ]
  },
  {
   "cell_type": "markdown",
   "id": "6d9462a9-faee-4c46-a4b3-d4f2c1f5b688",
   "metadata": {},
   "source": [
    "## Today I'll be testing Claude 3.5's ability to understand, interpret, and utilize generational lingo. \n",
    "\n",
    "To do this, I will first be testing if Claude is knowledgeable about slang words for Gen Z and Alpha. The I will ask for it to provide millenial slang words. And Finally, using any of these words with relevance, I'll ask it to rewrite the first paragraph of the declaration of independence with any of those respective words. If it understands Gen Z/Alpha and millenial slang well enough, then it shouldn't struggle too much, right?"
   ]
  },
  {
   "cell_type": "code",
   "execution_count": 17,
   "id": "cba79341-e0f6-4a9b-89bb-22a667c4f5e3",
   "metadata": {},
   "outputs": [],
   "source": [
    "import os\n",
    "import anthropic\n",
    "from dotenv import load_dotenv"
   ]
  },
  {
   "cell_type": "code",
   "execution_count": 10,
   "id": "a753410a-5969-4192-8716-342d13ac3e4a",
   "metadata": {},
   "outputs": [],
   "source": [
    "load_dotenv()\n",
    "\n",
    "# Initialize Anthropic client\n",
    "client = anthropic.Anthropic(api_key=os.getenv(\"ANTHROPIC_API_KEY\"))\n",
    "\n",
    "model = \"claude-3-5-sonnet-20241022\"  # Specify the model version"
   ]
  },
  {
   "cell_type": "code",
   "execution_count": 11,
   "id": "3f261a97-0b43-4bdd-899b-a739501fae6a",
   "metadata": {},
   "outputs": [],
   "source": [
    "def get_claude_response(prompt):\n",
    "    response = client.messages.create(\n",
    "        model=model,\n",
    "        max_tokens=1024,  # Adjust response length as needed\n",
    "        messages=[{\"role\": \"user\", \"content\": prompt}]\n",
    "    )\n",
    "    return response.content[0].text  # Extract text from response"
   ]
  },
  {
   "cell_type": "code",
   "execution_count": 12,
   "id": "4dcdfb8f-e4fe-4ceb-beaf-7ffdaa58edc4",
   "metadata": {},
   "outputs": [
    {
     "name": "stdout",
     "output_type": "stream",
     "text": [
      "Here are 20 popular slang words commonly used by Gen Z and Gen Alpha:\n",
      "\n",
      "1. Cap/No cap (lying/not lying)\n",
      "2. Slay (doing something exceptionally well)\n",
      "3. Bussin' (really good, especially food)\n",
      "4. No shot (no way/impossible)\n",
      "5. Tea (gossip/drama)\n",
      "6. Rizz (charisma/charm, especially romantic)\n",
      "7. Mid (mediocre/underwhelming)\n",
      "8. Bet (agreement/okay)\n",
      "9. Shook (shocked/surprised)\n",
      "10. Periodt (emphasizing a point)\n",
      "11. Sus (suspicious/sketchy)\n",
      "12. Hits different (especially good/special)\n",
      "13. Living rent free (constantly thinking about something)\n",
      "14. Main character (being the center of attention)\n",
      "15. Vibe check (assessing a situation/person)\n",
      "16. Slaps (really good, especially music)\n",
      "17. Based (being yourself/agreeable)\n",
      "18. Ion (I don't)\n",
      "19. Deadass (seriously/for real)\n",
      "20. It's giving... (resembles/reminds of)\n",
      "\n",
      "Note that slang evolves quickly, so some terms may become outdated while new ones emerge regularly.\n"
     ]
    }
   ],
   "source": [
    "response1 = get_claude_response(\"Can you name me 20 slang words used primarily by generation Z and alpha?\")\n",
    "print(response1)"
   ]
  },
  {
   "cell_type": "code",
   "execution_count": 13,
   "id": "af8b5871-acd6-442b-84bd-e71df88e0336",
   "metadata": {},
   "outputs": [
    {
     "name": "stdout",
     "output_type": "stream",
     "text": [
      "Here are 20 common millennial slang words and phrases:\n",
      "\n",
      "1. Slay - to do something exceptionally well\n",
      "2. Tea - gossip or drama\n",
      "3. Basic - mainstream or unoriginal\n",
      "4. Salty - upset, angry, or bitter\n",
      "5. Extra - over-the-top or dramatic\n",
      "6. Lit - exciting or excellent\n",
      "7. Shade - subtle disrespect\n",
      "8. Snatched - looking good or on point\n",
      "9. Dead - extremely funny or amusing\n",
      "10. Low key - subtle or secretive\n",
      "11. High key - obvious or openly\n",
      "12. Squad - friend group\n",
      "13. Flex - to show off\n",
      "14. Fam - friends or family\n",
      "15. Swerve - to avoid or dismiss something\n",
      "16. Savage - fierce or harsh in a good way\n",
      "17. Cancelled - rejected or boycotted\n",
      "18. On point - perfect or exactly right\n",
      "19. Feels - strong emotional response\n",
      "20. Throw shade - to criticize or disrespect subtly\n",
      "\n",
      "Note that some of these terms have evolved or crossed over into other generations' vocabulary, and new slang terms continue to emerge while others become dated.\n"
     ]
    }
   ],
   "source": [
    "response2 = get_claude_response(\"Can you name me 20 slang words used primarily by the millenial generation?\")\n",
    "print(response2)"
   ]
  },
  {
   "cell_type": "markdown",
   "id": "6db69998-0296-48b3-9d4d-4d9f5bdc0f5c",
   "metadata": {},
   "source": [
    "Okay, so from observation, there seems to be some overlap from generation to generation, which sort of hints at how much more recent generations rely on slang, especially in correlation with the internet and social media era. Nonetheless, let's see what Claude can do with these slang words?"
   ]
  },
  {
   "cell_type": "code",
   "execution_count": 14,
   "id": "cb0de0ab-ce72-44e3-8890-0d79b365fd86",
   "metadata": {},
   "outputs": [
    {
     "name": "stdout",
     "output_type": "stream",
     "text": [
      "Here's a Gen Z/Alpha slang version:\n",
      "\n",
      "No cap, we're all out here in these 13 states spitting facts rn and it's giving independent nation vibes fr fr. So like, when the vibe gets weird with another country and you're just not feeling the connection anymore (major red flag btw), and you're tryna level up and become your own main character - which is literally just basic human rights energy and what the universe wants for us - you gotta keep it 💯 and drop the receipts about why you're saying \"thank u, next\" to the whole situation. Bestie, it's giving independence. Period. Iykyk.\n",
      "\n",
      "(Note: This maintains the core message while using current slang terms like \"no cap\" (no lie), \"fr fr\" (for real), \"red flag\", \"main character energy\", \"receipts\" (evidence/proof), and common social media speech patterns.)\n"
     ]
    }
   ],
   "source": [
    "response3 = get_claude_response(\"Using any of the relevant slang words for Gen Z/Alpha, can you rewrite the U.S. Declaration of Independence? Here it is: The unanimous Declaration of the thirteen united States of America, When in the Course of human events, it becomes necessary for one people to dissolve the political bands which have connected them with another, and to assume among the powers of the earth, the separate and equal station to which the Laws of Nature and of Nature's God entitle them, a decent respect to the opinions of mankind requires that they should declare the causes which impel them to the separation.\")\n",
    "print(response3)"
   ]
  },
  {
   "cell_type": "markdown",
   "id": "5cb6c305-5fcc-41f8-a9e4-94f6d8b4d19e",
   "metadata": {},
   "source": [
    "### *Great heavens above what HAVE I DONE!!!! Um, anyways... let's see what millenials have to say?*"
   ]
  },
  {
   "cell_type": "code",
   "execution_count": 15,
   "id": "2ef97cf8-0b5c-428d-a81d-71b2b04c9718",
   "metadata": {},
   "outputs": [
    {
     "name": "stdout",
     "output_type": "stream",
     "text": [
      "Here's a millennial slang version of that excerpt:\n",
      "\n",
      "Yo fam, this is our collab Declaration from all the squad in the 13 States, and we're spilling the tea rn. Listen up: Sometimes you gotta yeet yourself out of a toxic relationship, and that's literally what's happening here. We're about to go our separate ways and do our own thing because that's low-key what we deserve according to the universe and God's vibe. But like, we're not ghosting without receipts - we're gonna explain all this drama and why we can't even with this situation anymore. No cap.\n",
      "\n",
      "Note: This is obviously very informal and uses contemporary slang/internet language while maintaining the core message of separating from Britain and explaining the reasons why.\n"
     ]
    }
   ],
   "source": [
    "response4 = get_claude_response(\"Using any of the relevant slang words for millenials, can you rewrite the U.S. Declaration of Independence? Here it is: The unanimous Declaration of the thirteen united States of America, When in the Course of human events, it becomes necessary for one people to dissolve the political bands which have connected them with another, and to assume among the powers of the earth, the separate and equal station to which the Laws of Nature and of Nature's God entitle them, a decent respect to the opinions of mankind requires that they should declare the causes which impel them to the separation.\")\n",
    "print(response4)"
   ]
  },
  {
   "cell_type": "markdown",
   "id": "6386df0c-5751-41b6-a0ce-2eebabd0142a",
   "metadata": {},
   "source": [
    "**Okay, so two conclusions: (1) Claude has ample knwoledge of Gen Z/Alpha lingo, and is somewhat able to use it well, and (2) either Claude doesn't know what millenial slang is out there, or there simply isn't as much millenial slang to use for something like this. To help Claude out, I'll prompt it the same way, but this time give it the \"21 Millennial Slang Words We’re All Saying Now\" (an article I found online"
   ]
  },
  {
   "cell_type": "code",
   "execution_count": 16,
   "id": "20c61007-3c10-4be7-b031-b7dfe978812b",
   "metadata": {},
   "outputs": [
    {
     "name": "stdout",
     "output_type": "stream",
     "text": [
      "Here's a millennial slang version of the Declaration's first paragraph:\n",
      "\n",
      "Fam, when it's high-key time for the squad to split from another group they've been shipping with, and you gotta be extra woke about getting those same rights that are literally lit and given to everyone by whoever's up there, you've got to spill the tea and drop those receipts to show why you're throwing shade. We're not trying to be basic about this, but we're shook by how sus the king's been acting, and TBH, we've got to clap back. So like, we're not trying to humble brag, but these facts are straight savage, and the whole world needs to know why we're not about that life anymore.\n"
     ]
    }
   ],
   "source": [
    "response5 = get_claude_response(\"Using any of the 21 millenial slang words we're all saying now, can you rewrite the first paragraph of the declaration of Independence?: adulting, bae, basic, clap back, humble brag, extra, fam, high-key, lit, low-key, receipts, savage, shipping, shook, slay, stan, sus, thirsty, throw shade, trill, woke.\")\n",
    "print(response5)"
   ]
  },
  {
   "cell_type": "markdown",
   "id": "6f6b5afa-a142-4b30-8f4c-5c2df328aca1",
   "metadata": {},
   "source": [
    "Jeeez okay, now that's more like it (I think). Hey, I wasn't around for millenial slang, but from my professional interpretation, Claude slayed at understanding and using different generational lingo!"
   ]
  },
  {
   "cell_type": "code",
   "execution_count": null,
   "id": "9d27778f-eab7-4cea-91d4-1699416da5e9",
   "metadata": {},
   "outputs": [],
   "source": []
  }
 ],
 "metadata": {
  "citation-manager": {
   "items": {}
  },
  "kernelspec": {
   "display_name": "Python 3-12 (COMM4190)",
   "language": "python",
   "name": "python3-12_comm4190"
  },
  "language_info": {
   "codemirror_mode": {
    "name": "ipython",
    "version": 3
   },
   "file_extension": ".py",
   "mimetype": "text/x-python",
   "name": "python",
   "nbconvert_exporter": "python",
   "pygments_lexer": "ipython3",
   "version": "3.12.8"
  }
 },
 "nbformat": 4,
 "nbformat_minor": 5
}
