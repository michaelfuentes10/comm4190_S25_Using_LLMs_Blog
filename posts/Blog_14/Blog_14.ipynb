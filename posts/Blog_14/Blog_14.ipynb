{
 "cells": [
  {
   "cell_type": "raw",
   "id": "b2967282-edb6-4619-8b74-1c971433f22c",
   "metadata": {},
   "source": [
    "---\n",
    "title: \"Can AI be used to help young students learn how to spell?\"\n",
    "description: \"For some, spelling may come naturally, but looking back, teachers had to put a lot of work to help get us where we are today. So, let's see if AI could have helped us out!\"\n",
    "date: 04/15/2025\n",
    "execute:\n",
    "  output: asis\n",
    "categories:\n",
    "  - logic\n",
    "  - interpretation\n",
    "---"
   ]
  },
  {
   "attachments": {
    "b51f8103-2404-4b48-bf26-891d30f17173.png": {
     "image/png": "[encoded data removed]"
    }
   },
   "cell_type": "markdown",
   "id": "ffafdae1-5233-42d5-9124-a92eb096d577",
   "metadata": {},
   "source": [
    "![Wednesday.png](attachment:b51f8103-2404-4b48-bf26-891d30f17173.png)"
   ]
  },
  {
   "cell_type": "markdown",
   "id": "7acb18b1-9e3c-4be8-8abe-4ee65a21538e",
   "metadata": {},
   "source": [
    "Imagine you're a teacher trying to teach one of your students how to spell \"Wednesday\". Now in your head, there are two ways to spell it: writing it, and sounding it out. Now, writing it out may come naturally to a student or saying it is helpful. But one thing is for sure, spelling words like this can be confusing for some students.\n",
    "\n",
    "Today I'm going to see what teaching strategies ChatGPT 4.1 (yes it's new) employs to help a struggling teacher help a 6-year old student learning to spell the days of the week. This sort of application is how I'd love to see AI employed into education, more as an educational aid opposed to replacing teachers, of course.\n",
    "\n",
    "This will be done in two stages: 1. no training of LLM with minimal information about the student, and 2. uploading information on strats the teacher has \"already used\" to help students spell words. I'll record my responses and simulate the first try of each category to help the teacher help the student."
   ]
  },
  {
   "cell_type": "markdown",
   "id": "ea617599-3c17-4b60-bcbf-d5c6b306700d",
   "metadata": {},
   "source": [
    "## Untrained LLM helping a teacher ###\n",
    "\n",
    "\n",
    "### USER\n",
    "You are an LLM aid to me, a teacher, helping a 6 year old student learn how to spell the days of the week, but they are really struggling. What are some ways I can help them learn to spell the days of the week?\n",
    "\n",
    "### ASSISTANT\n",
    "Absolutely! Here are some fun and effective ways to help a 6-year-old learn to spell the days of the week:\n",
    "\n",
    "1. **Sing a Song:**  \n",
    "Songs for the days of the week make the spelling easier to remember! There are many catchy “Days of the Week” tunes on YouTube (like to the tune of “The Addams Family” or “Twinkle Twinkle”). Singing and clapping out each syllable helps, too.\n",
    "\n",
    "2. **Rainbow Writing:**  \n",
    "Have your student write each day of the week in different colored markers or crayons. For example, “Monday” with blue, “Tuesday” with green, and so on. This repetition with color can make it more memorable and fun.\n",
    "\n",
    "3. **Make a Puzzle:**  \n",
    "Write the days of the week on cardboard or cardstock and cut each word into letter pieces. Have the student put the letters together to form the words. You can also try mix-and-match style puzzles.\n",
    "\n",
    "4. **Use Mnemonics:**  \n",
    "Help them make up silly sentences or word associations. For example,  \n",
    "- **Monday:** \"Monkeys Only Nap During Any Year\" (using the first letters M-O-N-D-A-Y)  \n",
    "- **Tuesday:** \"Tigers Usually Eat Snacks During Any Year\"\n",
    "\n",
    "5. **Tracing and Writing Practice:**  \n",
    "Give them tracing sheets with the days of the week written in dotted lines. Once they’ve traced, have them try to write each day without looking.\n",
    "\n",
    "6. **Magnetic Letters or Letter Tiles:**  \n",
    "Use fridge magnets or letter tiles to spell out each day. Physically arranging the letters can reinforce the correct order and spelling.\n",
    "\n",
    "7. **Visual Chart:**  \n",
    "Create or buy a visual chart with each day written clearly, and refer to it daily during your routines. Point to and spell the day every morning together.\n",
    "\n",
    "8. **Day-of-the-Week Story:**  \n",
    "Make up a short, simple story that uses the names of the days in order. Reading the story together may help them remember the sequence and spelling.\n",
    "\n",
    "9. **Cheer Each Letter:**  \n",
    "Turn each day into a chant:  \n",
    "“Give me an M! Give me an O!… What’s that spell? MONDAY!”\n",
    "\n",
    "10. **Frequent Practice with Games:**  \n",
    "Make a matching game or “memory” cards (where they match the spelled-out word to a picture for that day’s activity).\n",
    "\n",
    "Children this age learn best through multi-sensory, hands-on, and repetitive activities. Make learning fun and keep practice short but frequent—a few minutes each day will really help!\n",
    "\n",
    "If you’d like sample worksheets, blank tracing sheets, or specific song suggestions, I can provide those too!"
   ]
  },
  {
   "cell_type": "markdown",
   "id": "a8a3e87d-eb14-4f13-be4b-0df0b05af4f9",
   "metadata": {},
   "source": [
    "It's nice to see that, in a sense of realism, the LLM understands the environment in which a school teacher is. That is, they realized that teachers have limited resources, so they cannot over-rely on technology and must act creatively through human-to-human interaction. I like how it also recognizes that, even without proper training, they offered a ton of learning strategies for various types of students who benefit from either visual or hearing resources."
   ]
  },
  {
   "cell_type": "markdown",
   "id": "e25f6800-e244-4abb-a166-38f13c536c28",
   "metadata": {},
   "source": [
    "## Trained LLM helping a teacher\n",
    "\n",
    "### USER\n",
    "Given this resource on common teaching strategies to help students spell, please devise some new ways to help my student learn to spell the days of the week: https://www.edutopia.org/article/11-ways-to-boost-elementary-students-spelling-skills/\n",
    "\n",
    "### ASSISTANT\n",
    "Of course! Looking at the [Edutopia spelling strategies](https://www.edutopia.org/article/11-ways-to-boost-elementary-students-spelling-skills/), here are some creative, **research-based ways** to help your student spell the days of the week, inspired by ideas in the article:\n",
    "\n",
    "### 1. **Word Sorts with “Days” Patterns**\n",
    "- **How:** Provide cards with the days of the week. Let the student group them by similar endings (like \"day\") and notice what’s the same and what’s different at the beginning of each word.\n",
    "- **Why:** This builds pattern recognition and helps the child see how each word is constructed.\n",
    "\n",
    "### 2. **“Say, Spell, Say” Routine**\n",
    "- **How:** For each day, the child says the word (“Monday”), spells it out loud (“M-O-N-D-A-Y”), then says the word again. Do this with claps or while bouncing a ball.\n",
    "- **Why:** The repetition and movement help cement spelling in memory.\n",
    "\n",
    "### 3. **Personal Connection Journal**\n",
    "- **How:** Each morning, have the child write the phrase, \"Today is ______,\" filling in the correct day. Add a sentence or drawing about something they do that day.\n",
    "- **Why:** Connecting spelling practice to their real life builds meaning, as suggested by the article.\n",
    "\n",
    "### 4. **“Memory Tricks” or Mnemonics**\n",
    "- **How:** Make up funny sayings or visuals for tricky days. For example, “Tuesday has TWO vowels at the start!”\n",
    "- **Why:** Personal mnemonics help anchor difficult spellings.\n",
    "\n",
    "### 5. **Word Ladders or Pyramids**\n",
    "- **How:** Build up to each day’s spelling. For “Monday,” start with M, then MO, then MON, etc., until the whole word is formed.\n",
    "- **Why:** It breaks the word into manageable chunks, as advised for breaking words by phoneme.\n",
    "\n",
    "### 6. **Spelling with Movement**  \n",
    "(Adapted from “Spelling out loud and tracing”)\n",
    "- **How:** Have the child spell each day as they jump, hop, or tap each letter. Or trace the letters in sand, shaving cream, or air.\n",
    "- **Why:** Multisensory learning solidifies tricky spellings.\n",
    "\n",
    "### 7. **“Chunk It!” Approach**\n",
    "- **How:** Focus on the ending “day” and talk about what changes at the start for each day. Practice writing just the first part (Mon, Tues, etc.), then the whole word.\n",
    "- **Why:** Recognizing syllables and word parts supports better recall.\n",
    "\n",
    "### 8. **Digital Practice**\n",
    "- **How:** Use a simple online tool (like Wordwall or Spelling City) to practice spelling the days, with immediate feedback.\n",
    "- **Why:** According to the article, integrating tech can boost engagement and reinforcement.\n",
    "\n",
    "---\n",
    "\n",
    "**Bonus:**  \n",
    "Let your student be a “teacher for the day” and quiz you or a stuffed animal on how to spell the days. Teaching someone else is a wonderful way to reinforce their own knowledge!\n",
    "\n",
    "Would you like examples or printables for any of these strategies?"
   ]
  },
  {
   "cell_type": "markdown",
   "id": "1c042b70-e760-4435-a0ca-a966fb8fdeff",
   "metadata": {},
   "source": [
    "Very interesting, after offering some training information for the LLM to better understand teaching strategies, it seemed to reform the format and structuring of its strats. For example, under every strategy, they now define the \"how\" and the \"why\" of each category, opposed to offering somewhat unstructured suggestions. The strategies also seem more practical to real-world understanding of these words. For example, the untrained LLM went to coming up with mnemonics, while the trained model offered a strategy of journaling with the day of the week spelled at the top. People have to put the date at the top of papers all the time, so building up such a repetition helps to fast-track the kids learning of how to spell words of the week. Let's test whether the LLM GPT 4.01 is aware of the differences betweent their untrained and trained teaching strategies!"
   ]
  },
  {
   "cell_type": "markdown",
   "id": "adfa3e7c-dfb7-4d26-af94-e28284a0cfea",
   "metadata": {},
   "source": [
    "## Observed Differences between untrained and trained spelling strats\n",
    "\n",
    "### USER\n",
    "What are the differences between the first set of strategies you offered and the second set of strategies you offered to help a 6 year old kid learn how to spell the days of the week?\n",
    "\n",
    "### ASSISTANT\n",
    "Great question! Here’s a summary of the two sets of strategies I provided:\n",
    "\n",
    "## **Summary of Differences:**\n",
    "\n",
    "| First Set (General/Multi-sensory & Creative)  | Second Set (Research-based/Explicit Instruction) |\n",
    "|-----------------------------------------------|------------------------------------------------|\n",
    "| Focused on fun, play, and creativity           | Focused on building spelling awareness and patterns |\n",
    "| Activities are broadly engaging, less structured| Activities are structured, strategic, pattern-based |\n",
    "| Lots of repetition via singing, coloring, games | Emphasizes explicit routines, chunking, personal connection |\n",
    "| Rooted in early literacy practices & multisensory| Based on “what works” in spelling instruction research |\n",
    "\n",
    "**In short:**  \n",
    "- The **first set** is about playful, multisensory engagement to make learning enjoyable and routine.\n",
    "- The **second set** is about applying research-backed strategies focused on spelling patterns, explicit routines, and connecting spelling skills to personal meaning and memory.\n",
    "\n",
    "Both sets complement each other and can be used together for the best results!"
   ]
  },
  {
   "cell_type": "markdown",
   "id": "9103f210-f50d-487f-9680-3019c18c45cd",
   "metadata": {},
   "source": [
    "## Conclusion\n",
    "\n",
    "Yes, it definitely seems like the GPT 4.1 LLM understands that their trained information seems more practical and structured while the untrained was less structured, but more whimsical in the nature of a 6 year old student. In my opinion, maybe a combination of more fun and engaging strategies of a creative teacher, paired with the structured mindset of a trained teaching aid LLM can do wonders for a struggling student and make the life of a struggling, under-resourced teacher a lot easier!"
   ]
  }
 ],
 "metadata": {
  "citation-manager": {
   "items": {}
  },
  "kernelspec": {
   "display_name": "Python 3-12 (COMM4190)",
   "language": "python",
   "name": "python3-12_comm4190"
  },
  "language_info": {
   "codemirror_mode": {
    "name": "ipython",
    "version": 3
   },
   "file_extension": ".py",
   "mimetype": "text/x-python",
   "name": "python",
   "nbconvert_exporter": "python",
   "pygments_lexer": "ipython3",
   "version": "3.12.8"
  }
 },
 "nbformat": 4,
 "nbformat_minor": 5
}
