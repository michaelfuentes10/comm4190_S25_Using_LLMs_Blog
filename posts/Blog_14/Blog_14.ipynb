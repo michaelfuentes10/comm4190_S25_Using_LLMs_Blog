{
 "cells": [
  {
   "cell_type": "raw",
   "id": "b2967282-edb6-4619-8b74-1c971433f22c",
   "metadata": {},
   "source": [
    "---\n",
    "title: \"Can AI be used to help young students learn how to spell?\"\n",
    "description: \"For some, spelling may come naturally, but looking back, teachers had to put a lot of work to help get us where we are today. So, let's see if AI could have helped us out!\"\n",
    "date: 04/15/2025\n",
    "execute:\n",
    "  output: asis\n",
    "categories:\n",
    "  - logic\n",
    "  - interpretation\n",
    "---"
   ]
  },
  {
   "attachments": {
    "b51f8103-2404-4b48-bf26-891d30f17173.png": {
     "image/png": "[encoded data removed]"
    }
   },
   "cell_type": "markdown",
   "id": "ffafdae1-5233-42d5-9124-a92eb096d577",
   "metadata": {},
   "source": [
    "![Wednesday.png](attachment:b51f8103-2404-4b48-bf26-891d30f17173.png)"
   ]
  },
  {
   "cell_type": "markdown",
   "id": "7acb18b1-9e3c-4be8-8abe-4ee65a21538e",
   "metadata": {},
   "source": [
    "Imagine you're a teacher trying to teach one of your students how to spell \"Wednesday\". Now in your head, there are two ways to spell it: writing it, and sounding it out. Now, writing it out may come naturally to a student or saying it is helpful. But one thing is for sure, spelling words like this can be confusing for some students.\n",
    "\n",
    "Today I'm going to see what teaching strategies ChatGPT 4.1 (yes it's new) employs to help a struggling teacher help a 6-year old student learning to spell the days of the week. This sort of application is how I'd love to see AI employed into education, more as an educational aid opposed to replacing teachers, of course.\n",
    "\n",
    "This will be done in two stages: 1. no training of LLM with minimal information about the student, and 2. uploading information on strats the teacher has \"already used\" to help students spell words. I'll record my responses and simulate the first try of each category to help the teacher help the student."
   ]
  },
  {
   "cell_type": "code",
   "execution_count": null,
   "id": "f6ac89da-2671-48e2-81d3-a712e3550f26",
   "metadata": {},
   "outputs": [],
   "source": [
    "Untrained LLM helping a teacher"
   ]
  }
 ],
 "metadata": {
  "citation-manager": {
   "items": {}
  },
  "kernelspec": {
   "display_name": "Python 3-12 (COMM4190)",
   "language": "python",
   "name": "python3-12_comm4190"
  },
  "language_info": {
   "codemirror_mode": {
    "name": "ipython",
    "version": 3
   },
   "file_extension": ".py",
   "mimetype": "text/x-python",
   "name": "python",
   "nbconvert_exporter": "python",
   "pygments_lexer": "ipython3",
   "version": "3.12.8"
  }
 },
 "nbformat": 4,
 "nbformat_minor": 5
}
