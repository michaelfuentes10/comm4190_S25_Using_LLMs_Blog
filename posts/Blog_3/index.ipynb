{
 "cells": [
  {
   "cell_type": "raw",
   "id": "2325da06-3640-40c6-8c01-843faa31ff16",
   "metadata": {},
   "source": [
    "---\n",
    "title: \"Levels of Education: How ChatGPT 4o teaches about data\"\n",
    "description: \"Learning how to call APIs directly to Python\"\n",
    "date: \"2/05/2025\"\n",
    "\n",
    "execute:\n",
    "  output: asis\n",
    "\n",
    "categories:\n",
    "  - LLMs\n",
    "  - prompting\n",
    "  - logic\n",
    "---\n"
   ]
  },
  {
   "cell_type": "markdown",
   "id": "3074890d-d137-4402-aafd-278f53cafefd",
   "metadata": {},
   "source": [
    "Hello! We all love data, now don't we? Data makes up phones, computers, and of course, AI, which takes in data and out put data. Data makes the world go round. So, with AI being the future of data understanding, it is important to be educated in what the fundamental concepts of techology is: data."
   ]
  },
  {
   "cell_type": "markdown",
   "id": "c38b8968-d17c-4350-8fcb-c724edfa721a",
   "metadata": {},
   "source": [
    "Today, I asked ChatGPT to define data in different ways to people of different ages. Those ages are 5 year olds, middle schooler, high school graduate, and a data scientist. To keep things prompt, I'll keep things prompt by only allowing ChatGPT 10 sentences per response and one example. Let's see how it went!"
   ]
  },
  {
   "cell_type": "markdown",
   "id": "9e6a466a-0e49-4514-bff8-491b8db7d3eb",
   "metadata": {},
   "source": [
    "# Prompt 1\n",
    "**\"Can you teach me about what data is as if I were a 5 year old?\"**"
   ]
  },
  {
   "cell_type": "code",
   "execution_count": 1,
   "id": "21ed12b0-06ba-4c0b-ae9e-ffd8cc6c1cc8",
   "metadata": {},
   "outputs": [],
   "source": [
    "from openai import OpenAI\n",
    "from dotenv import load_dotenv\n",
    "_ = load_dotenv()"
   ]
  },
  {
   "cell_type": "code",
   "execution_count": 2,
   "id": "ae9ec103-2206-470b-902e-ff917d6d6069",
   "metadata": {},
   "outputs": [],
   "source": [
    "client1 = OpenAI()\n",
    "\n",
    "model = \"gpt-4o\"\n",
    "system_role = \"\"  # Define any system instructions if needed\n",
    "\n",
    "# Function to send a single independent prompt\n",
    "def get_chatgpt_response(prompt):\n",
    "    messages = [\n",
    "        {\"role\": \"system\", \"content\": system_role},\n",
    "        {\"role\": \"user\", \"content\": prompt}\n",
    "    ]\n",
    "    \n",
    "    completion = client1.chat.completions.create(\n",
    "        model=model,        # Model to use\n",
    "        messages=messages,  # Send only the current prompt\n",
    "        n=1,                # Generate one response\n",
    "        temperature=0.8     # Control randomness\n",
    "    )\n",
    "\n",
    "    return completion.choices[0].message.content\n"
   ]
  },
  {
   "cell_type": "code",
   "execution_count": 3,
   "id": "112caafe-77fb-44ac-9992-6d12e763522f",
   "metadata": {},
   "outputs": [
    {
     "name": "stdout",
     "output_type": "stream",
     "text": [
      "Sure! Imagine you have a big box of colorful crayons. Each crayon is like a tiny piece of information. When you draw a picture, you use different crayons to show different things. If you draw a sun, you might use the yellow crayon. If you draw grass, you might use the green crayon. All the crayons together help you create your picture. Just like that, data is lots of little pieces of information that help us understand something bigger. When people want to learn about something, they look at all the pieces of data, like you looking at all your crayons. By putting the crayons together, you make a picture; by putting data together, people learn new things. So, data is like crayons that help us see and understand the world!\n",
      "---\n"
     ]
    }
   ],
   "source": [
    "response1 = get_chatgpt_response(\"Can you teach me about what data is as if I were only five years old? Do this in 10 sentences using only one example.\")\n",
    "print(response1)\n",
    "print(\"---\")"
   ]
  },
  {
   "cell_type": "markdown",
   "id": "5c5cd88d-7c7b-444b-a134-02d28cbc0d9d",
   "metadata": {},
   "source": [
    "# Prompt 2\n",
    "**Can you teach me about what data is as if I were only fifteen years old?**"
   ]
  },
  {
   "cell_type": "code",
   "execution_count": 4,
   "id": "989bbfb1-93bb-4bfd-a1b7-77a3c82c8c3e",
   "metadata": {},
   "outputs": [
    {
     "name": "stdout",
     "output_type": "stream",
     "text": [
      "Sure! Imagine you have a notebook where you write down how many hours you play video games each day. Each entry in your notebook is a piece of data. Over time, you collect lots of entries, showing how your gaming time changes. This collection is called a dataset. By looking at the dataset, you can find patterns, like which days you play the most. You might notice you play more on weekends. This helps you understand your habits better. If you share this information with your friends, they can compare it with their own data. Together, you might discover new trends, like if everyone plays more during school breaks. This is a simple way of seeing how data can help us learn and make decisions.\n",
      "---\n"
     ]
    }
   ],
   "source": [
    "response2 = get_chatgpt_response(\"Can you teach me about what data is as if I were only fifteen years old? Do this in 10 sentences using only one example.\")\n",
    "print(response2)\n",
    "print(\"---\")"
   ]
  },
  {
   "cell_type": "markdown",
   "id": "9bb58745-cbc6-45b8-abe5-432ac00b73b4",
   "metadata": {},
   "source": [
    "# Prompt 3\n",
    "## **Can you teach me about what data is as if I were a junior in college majoring in Data Science?**"
   ]
  },
  {
   "cell_type": "code",
   "execution_count": 5,
   "id": "e1e4578c-d9c4-45bb-9936-d8bc47803c9d",
   "metadata": {},
   "outputs": [
    {
     "name": "stdout",
     "output_type": "stream",
     "text": [
      "Data refers to raw facts and figures that can be processed and analyzed to extract meaningful insights. Imagine you are working with a dataset of the daily temperatures in a city over a month. Each temperature reading is a data point, and together they form the dataset. This data is unorganized on its own and needs to be structured for analysis. By organizing the temperatures chronologically, you create a time series that allows you to observe trends and patterns, such as rising temperatures indicating a heatwave. You can apply statistical methods to calculate the average temperature or the range to summarize the data. Visualizing the data using a line graph can help communicate trends over the month. If some data points are missing or erroneous, data cleaning is necessary to ensure accuracy. Analyzing this data can help in forecasting future temperatures or studying climate change. Understanding and manipulating data effectively are key skills in data science, enabling you to draw insights and make data-driven decisions.\n",
      "---\n"
     ]
    }
   ],
   "source": [
    "response3 = get_chatgpt_response(\"Can you teach me about what data is as if I were a junior in college majoring in Data Science? Do this in 10 sentences using only one example.\")\n",
    "print(response3)\n",
    "print(\"---\")"
   ]
  },
  {
   "cell_type": "markdown",
   "id": "9bdbfb0b-a1ec-418c-80ba-789d71600878",
   "metadata": {},
   "source": [
    "# Prompt 4\n",
    "## **Can you teach me about what data is as if I were a data scientist?**"
   ]
  },
  {
   "cell_type": "code",
   "execution_count": 6,
   "id": "b5d2f48b-777d-4131-8bd5-03d9b47a2343",
   "metadata": {},
   "outputs": [
    {
     "name": "stdout",
     "output_type": "stream",
     "text": [
      "Sure! Imagine you're analyzing customer transactions from a retail store. Each transaction represents a data point, consisting of details like transaction ID, date, items purchased, quantities, and total amount spent. These details are attributes or features of your data. The collection of all transactions forms your dataset. Data scientists use this dataset to uncover patterns, such as which products are often bought together. They might apply statistical models or machine learning algorithms to predict future sales trends. Data quality is crucial, so data cleaning involves handling missing values or inaccuracies in the dataset. Visualization tools are then used to present findings in easily interpretable charts or graphs. Data privacy is also important, ensuring customer information is protected. Ultimately, data scientists transform raw data into valuable insights that drive decision-making.\n",
      "---\n"
     ]
    }
   ],
   "source": [
    "response4 = get_chatgpt_response(\"Can you teach me about what data is as if I were a data scientist? Do this in 10 sentences using only one example.\")\n",
    "print(response4)\n",
    "print(\"---\")"
   ]
  },
  {
   "cell_type": "markdown",
   "id": "2dd4f200-dc9a-4291-8959-da731600da24",
   "metadata": {},
   "source": [
    "# Final Analysis\n",
    "**It appears that ChatGPT is able to understand that people of all ages need to understand what data is, and how it can be applied in their general social contexts. For example, kids like candy (one would presume), so teaching kids with candy seems to work. But what I find interesting is how ChatGPT treated the explanations of high schooler and undergraduate very similarly, deeming them to have a similar understanding of what data can be used to record, rather than explaining the core concept of it. Finally, the explanation regarding the data scientist relied heavily on data as a tool for work, opposed to a route of learning and exploration. They are simply used to record candies for 5 year olds, record weather to high schoolers, record grades for undergrads, and ensure the working of a functional app. There you go!**"
   ]
  },
  {
   "cell_type": "code",
   "execution_count": null,
   "id": "3795ba6c-72ac-49cb-9b1a-b06edeaa5348",
   "metadata": {},
   "outputs": [],
   "source": []
  }
 ],
 "metadata": {
  "citation-manager": {
   "items": {}
  },
  "kernelspec": {
   "display_name": "Python 3-12 (COMM4190)",
   "language": "python",
   "name": "python3-12_comm4190"
  },
  "language_info": {
   "codemirror_mode": {
    "name": "ipython",
    "version": 3
   },
   "file_extension": ".py",
   "mimetype": "text/x-python",
   "name": "python",
   "nbconvert_exporter": "python",
   "pygments_lexer": "ipython3",
   "version": "3.12.8"
  }
 },
 "nbformat": 4,
 "nbformat_minor": 5
}
