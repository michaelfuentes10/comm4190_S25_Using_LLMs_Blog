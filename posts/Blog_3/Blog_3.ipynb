{
 "cells": [
  {
   "cell_type": "raw",
   "id": "2325da06-3640-40c6-8c01-843faa31ff16",
   "metadata": {},
   "source": [
    "---\n",
    "title: \"Levels of Education: How ChatGPT 4o teaches about data\"\n",
    "execute:\n",
    "    echo: true\n",
    "    code-fold: true\n",
    "\n",
    "description: \"Learning how to call APIs directly to Python\"\n",
    "date: \"2/05/2025\"\n",
    "categories:\n",
    "  - LLMs\n",
    "  - prompting\n",
    "  - logic\n",
    "---"
   ]
  },
  {
   "cell_type": "markdown",
   "id": "3074890d-d137-4402-aafd-278f53cafefd",
   "metadata": {},
   "source": [
    "Hello! We all love data, now don't we? Data makes up phones, computers, and of course, AI, which takes in data and out put data. Data makes the world go round. So, with AI being the future of data understanding, it is important to be educated in what the fundamental concepts of techology is: data."
   ]
  },
  {
   "cell_type": "markdown",
   "id": "c38b8968-d17c-4350-8fcb-c724edfa721a",
   "metadata": {},
   "source": [
    "Today, I asked ChatGPT to define data in different ways to people of different ages. Those ages are 5 year olds, middle schooler, high school graduate, and a data scientist. To keep things prompt, I'll keep things prompt by only allowing ChatGPT 10 sentences per response and one example. Let's see how it went!"
   ]
  },
  {
   "cell_type": "markdown",
   "id": "9e6a466a-0e49-4514-bff8-491b8db7d3eb",
   "metadata": {},
   "source": [
    "# Prompt 1\n",
    "**\"Can you teach me about what data is as if I were a 5 year old?\"**"
   ]
  },
  {
   "cell_type": "code",
   "execution_count": 44,
   "id": "21ed12b0-06ba-4c0b-ae9e-ffd8cc6c1cc8",
   "metadata": {},
   "outputs": [],
   "source": [
    "from openai import OpenAI\n",
    "from dotenv import load_dotenv\n",
    "_ = load_dotenv()"
   ]
  },
  {
   "cell_type": "code",
   "execution_count": 45,
   "id": "ae9ec103-2206-470b-902e-ff917d6d6069",
   "metadata": {},
   "outputs": [],
   "source": [
    "client1 = OpenAI()\n",
    "\n",
    "model = \"gpt-4o\"\n",
    "system_role = \"\"  # Define any system instructions if needed\n",
    "\n",
    "# Function to send a single independent prompt\n",
    "def get_chatgpt_response(prompt):\n",
    "    messages = [\n",
    "        {\"role\": \"system\", \"content\": system_role},\n",
    "        {\"role\": \"user\", \"content\": prompt}\n",
    "    ]\n",
    "    \n",
    "    completion = client1.chat.completions.create(\n",
    "        model=model,        # Model to use\n",
    "        messages=messages,  # Send only the current prompt\n",
    "        n=1,                # Generate one response\n",
    "        temperature=0.8     # Control randomness\n",
    "    )\n",
    "\n",
    "    return completion.choices[0].message.content\n"
   ]
  },
  {
   "cell_type": "code",
   "execution_count": 46,
   "id": "112caafe-77fb-44ac-9992-6d12e763522f",
   "metadata": {},
   "outputs": [
    {
     "name": "stdout",
     "output_type": "stream",
     "text": [
      "Sure! Imagine you have a big jar of colorful candies. Each candy is like a piece of data. Some candies are red, some are blue, and each color tells you something different. If you count all the red candies, that's like finding out how many kids like red candies. Counting candies helps us know what people like. If you line them up by size, you can see which candies are the smallest or biggest. This is like organizing data to understand it better. If you ask your friends which candy they like best, you're collecting new data. When you know what candies everyone likes, you can make sure to have those for your next party. So, data is like candies that help us learn and make decisions!\n",
      "---\n"
     ]
    }
   ],
   "source": [
    "response1 = get_chatgpt_response(\"Can you teach me about what data is as if I were only five years old? Do this in 10 sentences using only one example.\")\n",
    "print(response1)\n",
    "print(\"---\")"
   ]
  },
  {
   "cell_type": "markdown",
   "id": "5c5cd88d-7c7b-444b-a134-02d28cbc0d9d",
   "metadata": {},
   "source": [
    "# Prompt 2\n",
    "**Can you teach me about what data is as if I were only fifteen years old?**"
   ]
  },
  {
   "cell_type": "code",
   "execution_count": 47,
   "id": "989bbfb1-93bb-4bfd-a1b7-77a3c82c8c3e",
   "metadata": {},
   "outputs": [
    {
     "name": "stdout",
     "output_type": "stream",
     "text": [
      "Sure! Imagine you have a diary where you write about your day every evening. Each entry in your diary is like a piece of data. For example, if you record the weather each day, like \"sunny,\" \"rainy,\" or \"cloudy,\" that's data about the weather. Over time, if you look back at your diary, you can see patterns, like if it rained a lot in March. This collection of weather information helps you understand what the weather is usually like at different times of the year. If your friend asks you if March is a good time for an outdoor party, you can use your data to give a helpful answer. Just like how your diary helps you remember and understand your days, data helps people and computers understand the world better. It can be about anything, like how many people like a song or how often a cat meows. When people talk about \"big data,\" they mean a lot of information collected from many sources. Learning how to gather and understand data is important because it helps us make better decisions.\n",
      "---\n"
     ]
    }
   ],
   "source": [
    "response2 = get_chatgpt_response(\"Can you teach me about what data is as if I were only fifteen years old? Do this in 10 sentences using only one example.\")\n",
    "print(response2)\n",
    "print(\"---\")"
   ]
  },
  {
   "cell_type": "markdown",
   "id": "9bb58745-cbc6-45b8-abe5-432ac00b73b4",
   "metadata": {},
   "source": [
    "# Prompt 3\n",
    "## **Can you teach me about what data is as if I were a junior in college majoring in Data Science?**"
   ]
  },
  {
   "cell_type": "code",
   "execution_count": 48,
   "id": "e1e4578c-d9c4-45bb-9936-d8bc47803c9d",
   "metadata": {},
   "outputs": [
    {
     "name": "stdout",
     "output_type": "stream",
     "text": [
      "Sure! Data is information that can be collected, measured, analyzed, and used to make decisions. Imagine a simple example: a spreadsheet containing information about students' grades in a math class. Each row in this spreadsheet represents a student, and each column represents a different type of data, like student ID, test scores, or attendance rate. In this context, data can be qualitative, like student names, or quantitative, like their test scores. The goal of data science is to extract meaningful insights from such raw data. By analyzing the grades data, you could identify trends, like whether students with higher attendance tend to score better. Data can be structured, as in our example, or unstructured, like text from a student's essay. Effective data analysis often requires cleaning and organizing raw data to ensure accuracy. Data can be visualized through charts or graphs to make the findings easier to understand. Ultimately, data serves as a foundation for making informed decisions and predictions in various fields.\n",
      "---\n"
     ]
    }
   ],
   "source": [
    "response3 = get_chatgpt_response(\"Can you teach me about what data is as if I were a junior in college majoring in Data Science? Do this in 10 sentences using only one example.\")\n",
    "print(response3)\n",
    "print(\"---\")"
   ]
  },
  {
   "cell_type": "markdown",
   "id": "9bdbfb0b-a1ec-418c-80ba-789d71600878",
   "metadata": {},
   "source": [
    "# Prompt 4\n",
    "## **Can you teach me about what data is as if I were a data scientist?**"
   ]
  },
  {
   "cell_type": "code",
   "execution_count": 49,
   "id": "b5d2f48b-777d-4131-8bd5-03d9b47a2343",
   "metadata": {},
   "outputs": [
    {
     "name": "stdout",
     "output_type": "stream",
     "text": [
      "Sure! Imagine you’re a data scientist working with data from a fitness app. Data in this context refers to all the information collected by the app, like users' step counts, heart rates, and calories burned. Each piece of information is called a data point, and collectively, these data points form a dataset. In this case, the dataset might include daily step counts for thousands of users over a year. You can visualize this dataset as a large spreadsheet, where each row represents a day in a user’s activity log and each column contains specific details like steps or heart rate. Data scientists use statistical methods and algorithms to analyze this dataset and find patterns or trends. For example, you might discover that users tend to take more steps on weekends. This insight can be used to enhance app features, like suggesting weekend challenges to increase user engagement. Cleaning and preprocessing the data are crucial steps, as they ensure the dataset is accurate and ready for analysis. Finally, data scientists often present their findings in reports or visualizations, making complex data understandable for stakeholders.\n",
      "---\n"
     ]
    }
   ],
   "source": [
    "response4 = get_chatgpt_response(\"Can you teach me about what data is as if I were a data scientist? Do this in 10 sentences using only one example.\")\n",
    "print(response4)\n",
    "print(\"---\")"
   ]
  },
  {
   "cell_type": "markdown",
   "id": "2dd4f200-dc9a-4291-8959-da731600da24",
   "metadata": {},
   "source": [
    "# Final Analysis\n",
    "**It appears that ChatGPT is able to understand that people of all ages need to understand what data is, and how it can be applied in their general social contexts. For example, kids like candy (one would presume), so teaching kids with candy seems to work. But what I find interesting is how ChatGPT treated the explanations of high schooler and undergraduate very similarly, deeming them to have a similar understanding of what data can be used to record, rather than explaining the core concept of it. Finally, the explanation regarding the data scientist relied heavily on data as a tool for work, opposed to a route of learning and exploration. They are simply used to record candies for 5 year olds, record weather to high schoolers, record grades for undergrads, and ensure the working of a functional app. There you go!**"
   ]
  },
  {
   "cell_type": "code",
   "execution_count": null,
   "id": "3795ba6c-72ac-49cb-9b1a-b06edeaa5348",
   "metadata": {},
   "outputs": [],
   "source": []
  }
 ],
 "metadata": {
  "kernelspec": {
   "display_name": "Python 3-12 (COMM4190)",
   "language": "python",
   "name": "python3-12_comm4190"
  },
  "language_info": {
   "codemirror_mode": {
    "name": "ipython",
    "version": 3
   },
   "file_extension": ".py",
   "mimetype": "text/x-python",
   "name": "python",
   "nbconvert_exporter": "python",
   "pygments_lexer": "ipython3",
   "version": "3.12.8"
  }
 },
 "nbformat": 4,
 "nbformat_minor": 5
}
