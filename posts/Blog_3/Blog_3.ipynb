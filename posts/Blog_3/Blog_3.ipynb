{
 "cells": [
  {
   "cell_type": "raw",
   "id": "2325da06-3640-40c6-8c01-843faa31ff16",
   "metadata": {},
   "source": [
    "---\n",
    "title: \"Coding LLMs\"\n",
    "execute:\n",
    "    echo: false\n",
    "\n",
    "description: \"Learning how to call APIs directly to Python\"\n",
    "date: \"2/05/2025\"\n",
    "categories:\n",
    "  - LLMs\n",
    "  - prompting\n",
    "  - logic\n",
    "---"
   ]
  },
  {
   "cell_type": "code",
   "execution_count": 6,
   "id": "21ed12b0-06ba-4c0b-ae9e-ffd8cc6c1cc8",
   "metadata": {},
   "outputs": [],
   "source": [
    "from openai import OpenAI\n",
    "from dotenv import load_dotenv\n",
    "_ = load_dotenv()"
   ]
  },
  {
   "cell_type": "code",
   "execution_count": 7,
   "id": "20542242-487f-4d96-ae0a-2f7dac3bb6cb",
   "metadata": {},
   "outputs": [],
   "source": [
    "client = OpenAI()"
   ]
  },
  {
   "cell_type": "code",
   "execution_count": 8,
   "id": "c26f5f24-2e2c-44c7-a8b0-f2b4b02e60c7",
   "metadata": {},
   "outputs": [],
   "source": [
    "model = \"gpt-4o\"\n",
    "system_role = \"\"\n",
    "initial_prompt = '''\n",
    "        Hi!\n",
    "        '''\n",
    "messages = [\n",
    "    {\"role\": \"system\", \"content\": system_role} ,\n",
    "    {\"role\": \"user\", \"content\": initial_prompt},\n",
    "    # {\"role\": \"assistant\", \"content\": \"\" },\n",
    "    # {\"role\": \"user\", \"content\": \"\" }\n",
    "]"
   ]
  },
  {
   "cell_type": "code",
   "execution_count": 9,
   "id": "5545e382-225b-4de4-b4af-1819bd2b06a8",
   "metadata": {},
   "outputs": [],
   "source": [
    "completion = client.chat.completions.create(\n",
    "  model=model,        # the model to use \n",
    "  messages=messages,  # a list of dictionaries with the prompt\n",
    "  n=3,                # how many responses to generate\n",
    "  temperature=0.8     # temperature parameter\n",
    ")\n",
    "\n",
    "response = completion.choices[0].message.content"
   ]
  },
  {
   "cell_type": "code",
   "execution_count": 10,
   "id": "112caafe-77fb-44ac-9992-6d12e763522f",
   "metadata": {},
   "outputs": [
    {
     "name": "stdout",
     "output_type": "stream",
     "text": [
      "Hello! How can I assist you today?\n",
      "---\n",
      "Hello! How can I assist you today?\n",
      "---\n",
      "Hello! How can I assist you today?\n",
      "---\n"
     ]
    }
   ],
   "source": [
    "for resp in completion.choices:\n",
    "    print(resp.message.content)\n",
    "    print(\"---\")"
   ]
  },
  {
   "cell_type": "code",
   "execution_count": null,
   "id": "989bbfb1-93bb-4bfd-a1b7-77a3c82c8c3e",
   "metadata": {},
   "outputs": [],
   "source": []
  }
 ],
 "metadata": {
  "kernelspec": {
   "display_name": "Python 3-12 (COMM4190)",
   "language": "python",
   "name": "python3-12_comm4190"
  },
  "language_info": {
   "codemirror_mode": {
    "name": "ipython",
    "version": 3
   },
   "file_extension": ".py",
   "mimetype": "text/x-python",
   "name": "python",
   "nbconvert_exporter": "python",
   "pygments_lexer": "ipython3",
   "version": "3.12.8"
  }
 },
 "nbformat": 4,
 "nbformat_minor": 5
}
