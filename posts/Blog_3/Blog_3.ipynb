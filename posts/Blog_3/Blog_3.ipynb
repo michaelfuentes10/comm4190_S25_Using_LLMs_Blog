{
 "cells": [
  {
   "cell_type": "raw",
   "id": "2325da06-3640-40c6-8c01-843faa31ff16",
   "metadata": {},
   "source": [
    "---\n",
    "title: \"Coding LLMs\"\n",
    "description: \"Learning how to call APIs directly to Python\"\n",
    "date: \"2/05/2025\"\n",
    "categories:\n",
    "  - LLMs\n",
    "  - prompting\n",
    "  - logic\n",
    "---"
   ]
  },
  {
   "cell_type": "code",
   "execution_count": 1,
   "id": "21ed12b0-06ba-4c0b-ae9e-ffd8cc6c1cc8",
   "metadata": {},
   "outputs": [],
   "source": [
    "from openai import OpenAI\n",
    "from dotenv import load_dotenv\n",
    "_ = load_dotenv()"
   ]
  },
  {
   "cell_type": "code",
   "execution_count": 2,
   "id": "20542242-487f-4d96-ae0a-2f7dac3bb6cb",
   "metadata": {},
   "outputs": [],
   "source": [
    "client = OpenAI()"
   ]
  },
  {
   "cell_type": "code",
   "execution_count": 3,
   "id": "9bd56d2c-ba5c-4539-9af5-c3640bdc1339",
   "metadata": {},
   "outputs": [
    {
     "name": "stdout",
     "output_type": "stream",
     "text": [
      "gpt-4o-mini-audio-preview\n",
      "gpt-4o-mini-audio-preview-2024-12-17\n",
      "gpt-4o-mini-realtime-preview\n",
      "dall-e-2\n",
      "gpt-4o-mini-2024-07-18\n",
      "gpt-4o-mini\n",
      "o1-mini-2024-09-12\n",
      "o1-preview-2024-09-12\n",
      "o1-mini\n",
      "o1-preview\n",
      "whisper-1\n",
      "dall-e-3\n",
      "gpt-4-turbo\n",
      "gpt-4o-audio-preview\n",
      "gpt-4o-audio-preview-2024-10-01\n",
      "babbage-002\n",
      "omni-moderation-latest\n",
      "omni-moderation-2024-09-26\n",
      "tts-1-hd-1106\n",
      "gpt-4o-2024-08-06\n",
      "o3-mini\n",
      "o3-mini-2025-01-31\n",
      "gpt-4o\n",
      "gpt-4o-2024-05-13\n",
      "tts-1-hd\n",
      "o1\n",
      "o1-2024-12-17\n",
      "gpt-4o-2024-11-20\n",
      "gpt-4-turbo-2024-04-09\n",
      "gpt-4-0613\n",
      "chatgpt-4o-latest\n",
      "tts-1\n",
      "gpt-3.5-turbo-16k\n",
      "tts-1-1106\n",
      "davinci-002\n",
      "gpt-4-turbo-preview\n",
      "gpt-4o-mini-realtime-preview-2024-12-17\n",
      "gpt-3.5-turbo-1106\n",
      "gpt-3.5-turbo-instruct\n",
      "gpt-4\n",
      "gpt-4o-realtime-preview-2024-10-01\n",
      "gpt-3.5-turbo-instruct-0914\n",
      "gpt-3.5-turbo-0125\n",
      "gpt-4o-audio-preview-2024-12-17\n",
      "gpt-4o-realtime-preview-2024-12-17\n",
      "gpt-3.5-turbo\n",
      "text-embedding-3-large\n",
      "gpt-4o-realtime-preview\n",
      "text-embedding-3-small\n",
      "gpt-4-0125-preview\n",
      "gpt-4-1106-preview\n",
      "text-embedding-ada-002\n"
     ]
    }
   ],
   "source": [
    "models = client.models.list()\n",
    "\n",
    "for model in models.data:\n",
    "        print(model.id)"
   ]
  },
  {
   "cell_type": "code",
   "execution_count": 4,
   "id": "c26f5f24-2e2c-44c7-a8b0-f2b4b02e60c7",
   "metadata": {},
   "outputs": [],
   "source": [
    "model = \"gpt-4o\"\n",
    "system_role = \"\"\n",
    "initial_prompt = '''\n",
    "        Hi!\n",
    "        '''\n",
    "messages = [\n",
    "    {\"role\": \"system\", \"content\": system_role} ,\n",
    "    {\"role\": \"user\", \"content\": initial_prompt},\n",
    "    # {\"role\": \"assistant\", \"content\": \"\" },\n",
    "    # {\"role\": \"user\", \"content\": \"\" }\n",
    "]"
   ]
  },
  {
   "cell_type": "code",
   "execution_count": 5,
   "id": "5545e382-225b-4de4-b4af-1819bd2b06a8",
   "metadata": {},
   "outputs": [],
   "source": [
    "completion = client.chat.completions.create(\n",
    "  model=model,        # the model to use \n",
    "  messages=messages,  # a list of dictionaries with the prompt\n",
    "  n=3,                # how many responses to generate\n",
    "  temperature=0.8     # temperature parameter\n",
    ")\n",
    "\n",
    "response = completion.choices[0].message.content"
   ]
  },
  {
   "cell_type": "code",
   "execution_count": 12,
   "id": "112caafe-77fb-44ac-9992-6d12e763522f",
   "metadata": {},
   "outputs": [
    {
     "name": "stdout",
     "output_type": "stream",
     "text": [
      "Hello! How can I assist you today?\n",
      "---\n",
      "Hello! How can I assist you today?\n",
      "---\n",
      "Hello! How can I assist you today?\n",
      "---\n"
     ]
    }
   ],
   "source": [
    "for resp in completion.choices:\n",
    "    print(resp.message.content)\n",
    "    print(\"---\")"
   ]
  },
  {
   "cell_type": "code",
   "execution_count": null,
   "id": "989bbfb1-93bb-4bfd-a1b7-77a3c82c8c3e",
   "metadata": {},
   "outputs": [],
   "source": []
  }
 ],
 "metadata": {
  "kernelspec": {
   "display_name": "Python 3-12 (COMM4190)",
   "language": "python",
   "name": "python3-12_comm4190"
  },
  "language_info": {
   "codemirror_mode": {
    "name": "ipython",
    "version": 3
   },
   "file_extension": ".py",
   "mimetype": "text/x-python",
   "name": "python",
   "nbconvert_exporter": "python",
   "pygments_lexer": "ipython3",
   "version": "3.12.8"
  }
 },
 "nbformat": 4,
 "nbformat_minor": 5
}
