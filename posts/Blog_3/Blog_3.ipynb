{
 "cells": [
  {
   "cell_type": "raw",
   "id": "2325da06-3640-40c6-8c01-843faa31ff16",
   "metadata": {},
   "source": [
    "---\n",
    "title: \"Levels of Education: How ChatGPT 4o teaches about data\"\n",
    "execute:\n",
    "    echo: true\n",
    "    code-fold: true\n",
    "\n",
    "description: \"Learning how to call APIs directly to Python\"\n",
    "date: \"2/05/2025\"\n",
    "categories:\n",
    "  - LLMs\n",
    "  - prompting\n",
    "  - logic\n",
    "---"
   ]
  },
  {
   "cell_type": "markdown",
   "id": "3074890d-d137-4402-aafd-278f53cafefd",
   "metadata": {},
   "source": [
    "Hello! We all love data, now don't we? Data makes up phones, computers, and of course, AI, which takes in data and out put data. Data makes the world go round. So, with AI being the future of data understanding, it is important to be educated in what the fundamental concepts of techology is: data."
   ]
  },
  {
   "cell_type": "markdown",
   "id": "c38b8968-d17c-4350-8fcb-c724edfa721a",
   "metadata": {},
   "source": [
    "Today, I asked ChatGPT to define data in different ways to people of different ages. Those ages are 5 year olds, middle schooler, high school graduate, and a data scientist. Let's see how it went!"
   ]
  },
  {
   "cell_type": "markdown",
   "id": "9e6a466a-0e49-4514-bff8-491b8db7d3eb",
   "metadata": {},
   "source": [
    "# Prompt 1\n",
    "**\"Can you teach me about what data is as if I were a 5 year old?\"**"
   ]
  },
  {
   "cell_type": "code",
   "execution_count": 18,
   "id": "21ed12b0-06ba-4c0b-ae9e-ffd8cc6c1cc8",
   "metadata": {},
   "outputs": [],
   "source": [
    "from openai import OpenAI\n",
    "from dotenv import load_dotenv\n",
    "_ = load_dotenv()"
   ]
  },
  {
   "cell_type": "code",
   "execution_count": 19,
   "id": "20542242-487f-4d96-ae0a-2f7dac3bb6cb",
   "metadata": {},
   "outputs": [],
   "source": [
    "client1 = OpenAI()"
   ]
  },
  {
   "cell_type": "code",
   "execution_count": 20,
   "id": "c26f5f24-2e2c-44c7-a8b0-f2b4b02e60c7",
   "metadata": {},
   "outputs": [],
   "source": [
    "model = \"gpt-4o\"\n",
    "system_role = \"\"\n",
    "initial_prompt = '''\n",
    "        Can you teach me about what data is as if I were only five years old?\n",
    "        '''\n",
    "messages = [\n",
    "    {\"role\": \"system\", \"content\": system_role} ,\n",
    "    {\"role\": \"user\", \"content\": initial_prompt},\n",
    "    # {\"role\": \"assistant\", \"content\": \"\" },\n",
    "    # {\"role\": \"user\", \"content\": \"\" }\n",
    "]"
   ]
  },
  {
   "cell_type": "code",
   "execution_count": 21,
   "id": "5545e382-225b-4de4-b4af-1819bd2b06a8",
   "metadata": {},
   "outputs": [],
   "source": [
    "completion = client.chat.completions.create(\n",
    "  model=model,        # the model to use \n",
    "  messages=messages,  # a list of dictionaries with the prompt\n",
    "  n=1,                # how many responses to generate\n",
    "  temperature=0.8     # temperature parameter\n",
    ")\n",
    "\n",
    "response = completion.choices[0].message.content"
   ]
  },
  {
   "cell_type": "code",
   "execution_count": 22,
   "id": "112caafe-77fb-44ac-9992-6d12e763522f",
   "metadata": {},
   "outputs": [
    {
     "name": "stdout",
     "output_type": "stream",
     "text": [
      "Sure! Imagine you have a big box of colorful building blocks. Each block is like a tiny piece of information. When you put the blocks together, you can build something cool, like a house or a car. Data is like those building blocks, but instead of making houses, it helps us learn things, solve problems, and understand the world around us. People collect and use data to make decisions, just like you decide what to build with your blocks!\n",
      "---\n"
     ]
    }
   ],
   "source": [
    "for resp in completion.choices:\n",
    "    print(resp.message.content)\n",
    "    print(\"---\")"
   ]
  },
  {
   "cell_type": "markdown",
   "id": "5c5cd88d-7c7b-444b-a134-02d28cbc0d9d",
   "metadata": {},
   "source": [
    "# Prompt 2\n",
    "**Can you teach me about what data is as if I were only fifteen years old?**"
   ]
  },
  {
   "cell_type": "code",
   "execution_count": null,
   "id": "46bad401-1153-435f-a5c2-56679cf7cd4f",
   "metadata": {},
   "outputs": [],
   "source": [
    "client2 = OpenAI()"
   ]
  },
  {
   "cell_type": "code",
   "execution_count": 23,
   "id": "989bbfb1-93bb-4bfd-a1b7-77a3c82c8c3e",
   "metadata": {},
   "outputs": [],
   "source": [
    "model = \"gpt-4o\"\n",
    "system_role = \"\"\n",
    "initial_prompt = '''\n",
    "        Can you teach me about what data is as if I were only fifteen years old?\n",
    "        '''\n",
    "messages = [\n",
    "    {\"role\": \"system\", \"content\": system_role} ,\n",
    "    {\"role\": \"user\", \"content\": initial_prompt},\n",
    "    # {\"role\": \"assistant\", \"content\": \"\" },\n",
    "    # {\"role\": \"user\", \"content\": \"\" }\n",
    "]"
   ]
  },
  {
   "cell_type": "code",
   "execution_count": 24,
   "id": "40355df1-0a9c-49f5-b268-8a4f4d1d346a",
   "metadata": {},
   "outputs": [
    {
     "name": "stdout",
     "output_type": "stream",
     "text": [
      "Sure! Imagine you have a big box of colorful building blocks. Each block is like a tiny piece of information. When you put the blocks together, you can build something cool, like a house or a car. Data is like those building blocks, but instead of making houses, it helps us learn things, solve problems, and understand the world around us. People collect and use data to make decisions, just like you decide what to build with your blocks!\n",
      "---\n"
     ]
    }
   ],
   "source": [
    "for resp in completion.choices:\n",
    "    print(resp.message.content)\n",
    "    print(\"---\")"
   ]
  },
  {
   "cell_type": "code",
   "execution_count": null,
   "id": "b1a3b465-2cd0-4c35-b845-84a6a2b9244a",
   "metadata": {},
   "outputs": [],
   "source": []
  },
  {
   "cell_type": "code",
   "execution_count": null,
   "id": "e1e4578c-d9c4-45bb-9936-d8bc47803c9d",
   "metadata": {},
   "outputs": [],
   "source": []
  },
  {
   "cell_type": "code",
   "execution_count": null,
   "id": "9fe32def-1207-4863-a13b-cee4ddc10537",
   "metadata": {},
   "outputs": [],
   "source": []
  }
 ],
 "metadata": {
  "kernelspec": {
   "display_name": "Python 3-12 (COMM4190)",
   "language": "python",
   "name": "python3-12_comm4190"
  },
  "language_info": {
   "codemirror_mode": {
    "name": "ipython",
    "version": 3
   },
   "file_extension": ".py",
   "mimetype": "text/x-python",
   "name": "python",
   "nbconvert_exporter": "python",
   "pygments_lexer": "ipython3",
   "version": "3.12.8"
  }
 },
 "nbformat": 4,
 "nbformat_minor": 5
}
