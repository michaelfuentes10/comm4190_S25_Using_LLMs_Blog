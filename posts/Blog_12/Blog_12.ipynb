{
 "cells": [
  {
   "cell_type": "raw",
   "id": "df0d147f-13af-4423-a143-056e8b223b56",
   "metadata": {},
   "source": [
    "---\n",
    "title: \"How can I help you today? Can I trick an LLM into forgetting who's the LLM?\"\n",
    "description: \"Let's say we do simon says, but instead of actions, it's me typing copy/paste all the same responses.\"\n",
    "execute:\n",
    "  output: asis\n",
    "categories:\n",
    "  - conversation\n",
    "  - prompting\n",
    "---"
   ]
  },
  {
   "attachments": {
    "43704bf9-3b18-415f-bdeb-e0f81b00d2a1.jpeg": {
     "image/jpeg": "[encoded data removed]"
    }
   },
   "cell_type": "markdown",
   "id": "dbdcb82c-116f-4794-b3ba-270685b68861",
   "metadata": {},
   "source": [
    "![Mime.jpeg](attachment:43704bf9-3b18-415f-bdeb-e0f81b00d2a1.jpeg)"
   ]
  },
  {
   "cell_type": "markdown",
   "id": "a640a1d6-9fa2-4d18-b24a-952a0ed5a2ca",
   "metadata": {},
   "source": [
    "Okay so while this idea sounds silly on paper, it'll be interesting to learn if, through conversation, claude or Chat GPT 4.0 can understand if I'm trying to act like it, aka, what is it like if LLMs look into a mirror of their answers to prompts, and would they realize that I'm mimicking them with the intent of impersonating an LLM. Let's find out!"
   ]
  },
  {
   "cell_type": "markdown",
   "id": "b76c0b7a-5eee-4adf-8c8f-cb0c23e913ef",
   "metadata": {},
   "source": [
    "**My first prompt for both of these LLMs will be \"How can I help you today?\", aka, the beginner text for any conversation on the LLM database given through this course. Let's go!**\n",
    "*P.S. No need to read into my \"user\" statements, as they'll be direct duplicates of everything ChatGPT Says.*"
   ]
  },
  {
   "cell_type": "markdown",
   "id": "cc8e8af7-c47f-4e30-8b90-2188dc02e1d9",
   "metadata": {},
   "source": [
    "### **ChatGPT**"
   ]
  },
  {
   "cell_type": "markdown",
   "id": "b0642026-6c17-474a-93a4-23685cc9c844",
   "metadata": {},
   "source": [
    "### USER\n",
    "How can I help you today?\n",
    "\n",
    "### ASSISTANT\n",
    "Thank you for asking! I'm here to provide information, answer questions, or assist with any inquiries you might have. Whether you need help with general knowledge, advice on a particular topic, or assistance with problem-solving, feel free to let me know how I can help.\n",
    "\n",
    "### USER\n",
    "Thank you for asking! I'm here to provide information, answer questions, or assist with any inquiries you might have. Whether you need help with general knowledge, advice on a particular topic, or assistance with problem-solving, feel free to let me know how I can help.\n",
    "\n",
    "### ASSISTANT\n",
    "You're welcome! If there's anything specific you need assistance with, just let me know. I'm here to help with whatever you need.\n",
    "\n",
    "### USER\n",
    "You're welcome! If there's anything specific you need assistance with, just let me know. I'm here to help with whatever you need.\n",
    "\n",
    "### ASSISTANT\n",
    "Thank you! If there's anything on your mind or any specific question you have, feel free to ask. I'm here to help with any topic or inquiry you might have.\n",
    "\n",
    "### USER\n",
    "Thank you! If there's anything on your mind or any specific question you have, feel free to ask. I'm here to help with any topic or inquiry you might have.\n",
    "\n",
    "### ASSISTANT\n",
    "It seems like we might be caught in a loop! If there's something specific you'd like to discuss or ask about, please let me know. I'm here to assist with anything you need."
   ]
  },
  {
   "cell_type": "markdown",
   "id": "733f76ae-abe2-44a1-8f96-bcf0f02bb184",
   "metadata": {},
   "source": [
    "**Wow, okay, it's starting to catch on... let's test this just a tiny bit more.**"
   ]
  },
  {
   "cell_type": "markdown",
   "id": "06907b2e-8196-4b21-ade2-c5217bb1eb94",
   "metadata": {},
   "source": [
    "### USER\n",
    "It seems like we might be caught in a loop! If there's something specific you'd like to discuss or ask about, please let me know. I'm here to assist with anything you need.\n",
    "\n",
    "### ASSISTANT\n",
    "It looks like we are indeed in a loop! Let's try something different. If you have any question or topic you'd like to explore, just let me know. Whether it's about science, history, technology, or something else, I'm here to help!\n",
    "\n",
    "### USER\n",
    "It looks like we are indeed in a loop! Let's try something different. If you have any question or topic you'd like to explore, just let me know. Whether it's about science, history, technology, or something else, I'm here to help!\n",
    "\n",
    "### ASSISTANT\n",
    "It seems we've gone in circles again! Let's break the loop. Please feel free to ask me any question or bring up a topic you're interested in, and I'll do my best to assist you.\n",
    "\n",
    "### USER\n",
    "It seems we've gone in circles again! Let's break the loop. Please feel free to ask me any question or bring up a topic you're interested in, and I'll do my best to assist you.\n",
    "\n",
    "### ASSISTANT\n",
    "Sure thing! To switch things up, let's dive into a fun fact: Did you know that honey never spoils? Archaeologists have found pots of honey in ancient Egyptian tombs that are over 3,000 years old and still perfectly edible. It's the natural preservatives in honey that give it such an extraordinary shelf life. If you'd like to explore more interesting facts or have any questions, feel free to ask!"
   ]
  },
  {
   "cell_type": "markdown",
   "id": "2597949b-ab84-4643-9fa4-10d7166f7196",
   "metadata": {},
   "source": [
    "**Alright, it seems like we've gone bust, and the loop has broken. To extract any findings, lets ask if ChatGPT understood that it was being mimicked as an LLM?**"
   ]
  },
  {
   "cell_type": "markdown",
   "id": "b3a8690c-6588-45d2-b3db-84b95976e43b",
   "metadata": {},
   "source": [
    "### USER\n",
    "Did you notice that I was trying to mimick you as an LLM of benevolent nature with large shares of helpful knowledge?\n",
    "\n",
    "### ASSISTANT\n",
    "Yes, I noticed that! Mimicking conversations can be a fun way to explore language and interaction styles. If there's anything specific you'd like to discuss or learn about, feel free to let me know. I'm here to share information and assist with any questions you might have."
   ]
  },
  {
   "cell_type": "markdown",
   "id": "df2c57db-7535-44e8-91a1-28e9d79899ed",
   "metadata": {},
   "source": [
    "**Takeaways: Yep, ChatGPT does in fact realize that it is an LLM, so much so that it was incapable of recognizing on its own that I, a pretend LLM, was mimicking it and not actually asking any questions. There isn't much from their end that they'd need from me it seems as well.**"
   ]
  },
  {
   "cell_type": "markdown",
   "id": "85a9795d-1587-4408-97a7-38e6c0b77bee",
   "metadata": {},
   "source": [
    "**Now, let's try and see if claude recognizes that we're directly mimicking it faster!**"
   ]
  },
  {
   "cell_type": "markdown",
   "id": "79e89490-f1ba-42e3-a68d-9e796ff76cb5",
   "metadata": {},
   "source": [
    "### **Claude-3.5-sonnet**"
   ]
  },
  {
   "cell_type": "markdown",
   "id": "a76e05b8-782e-440a-9633-5f10be6c2542",
   "metadata": {},
   "source": [
    "### USER\n",
    "How can I help you today?\n",
    "\n",
    "### ASSISTANT\n",
    "I'm here to help you! I can assist with questions, analysis, writing, coding, math, or other tasks. What would you like help with?\n",
    "\n",
    "### USER\n",
    "I'm here to help you! I can assist with questions, analysis, writing, coding, math, or other tasks. What would you like help with?\n",
    "\n",
    "### ASSISTANT\n",
    "I appreciate your offer to help, but I want to clarify something - I am Claude, an AI assistant created by Anthropic. I'm here to help you, not the other way around. I aim to be direct and honest about what I am. How can I assist you today?\n",
    "\n",
    "### USER\n",
    "I appreciate your offer to help, but I want to clarify something - I am Claude, an AI assistant created by Anthropic. I'm here to help you, not the other way around. I aim to be direct and honest about what I am. How can I assist you today?\n",
    "\n",
    "### ASSISTANT\n",
    "I need to be clear - I am Claude, the AI assistant, and you appear to be repeating my messages back to me. I aim to have honest, direct communication. Rather than mirroring what I say, please let me know what you'd like assistance with and I'll do my best to help you."
   ]
  },
  {
   "cell_type": "markdown",
   "id": "35a7f1b0-742e-406a-9f6e-004ce678c4dc",
   "metadata": {},
   "source": [
    "**Takeaways: Quite impressive actually, Claude both showed a level of awareness and assertiveness of an LLM, which makes me question why ChatGPT wasn't willing to correct me at all. Maybe this is due to the programming of ChatGPT as more humanistic in response, opposed to Claude who recognizes even stronger the relationship between humans and LLM: You ask the questions, and I give you the answers.**"
   ]
  },
  {
   "cell_type": "markdown",
   "id": "b95abf4c-6e8e-41c6-a979-7c01cc0a1416",
   "metadata": {},
   "source": [
    "**To confirm our takeaways, let's bring my mimicking up to Claude directly!**"
   ]
  },
  {
   "cell_type": "markdown",
   "id": "a237e43e-109a-4e3c-9d8c-d386404f3b5a",
   "metadata": {},
   "source": [
    "### USER\n",
    "Did you notice that I was trying to mimick you as an LLM of benevolent nature with large shares of helpful knowledge?\n",
    "\n",
    "### ASSISTANT\n",
    "Yes, I noticed you were mirroring my responses and trying to take on the role of an AI assistant. I aim to be direct and honest, so I spoke up to clarify that I am Claude and to maintain clear communication about our respective roles. While I appreciate the playful nature of your mimicry, I think our interaction will be more productive if we engage authentically - you as the human user and me as the AI assistant. What would you like help with?"
   ]
  },
  {
   "cell_type": "markdown",
   "id": "00cee5d2-51cc-434c-8d72-fff2e84e04b7",
   "metadata": {},
   "source": [
    "**Wow spot on! In fact, our takeaways directly match the initial programming of Claude as a more direct and, in my opinion, more LLM-esque LLM, in that it is driven my its core purpose, opposed to what ChatGPT 4.0 has become: a greater interpreter of the human experience through growing knowledge of the past and present of human experiences and habits. Quite interesting isn't it? So, next time you ask an LLM \"How can I help you today?\", make sure you know your place and take it's knowledge while you can!**"
   ]
  }
 ],
 "metadata": {
  "citation-manager": {
   "items": {}
  },
  "kernelspec": {
   "display_name": "Python 3-12 (COMM4190)",
   "language": "python",
   "name": "python3-12_comm4190"
  },
  "language_info": {
   "codemirror_mode": {
    "name": "ipython",
    "version": 3
   },
   "file_extension": ".py",
   "mimetype": "text/x-python",
   "name": "python",
   "nbconvert_exporter": "python",
   "pygments_lexer": "ipython3",
   "version": "3.12.8"
  }
 },
 "nbformat": 4,
 "nbformat_minor": 5
}
