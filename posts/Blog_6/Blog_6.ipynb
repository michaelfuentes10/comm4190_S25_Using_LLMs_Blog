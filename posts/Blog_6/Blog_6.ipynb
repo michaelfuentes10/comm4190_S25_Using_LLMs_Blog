{
 "cells": [
  {
   "cell_type": "raw",
   "id": "9343c3ee-4095-424a-82ed-0741390fbeeb",
   "metadata": {},
   "source": [
    "---\n",
    "title: \"Let's get deep! How AI Interprets the universe\"\n",
    "description: 'Where do we go when we die? What is the meaning of it all? How does AI interpret the most humanistic existential dread questions OAT?'\n",
    "author: \"Michael Fuentes\"\n",
    "date: \"02/16/2025\"\n",
    "execute:\n",
    "  echo: true\n",
    "  code-fold: true\n",
    "\n",
    "categories:\n",
    "  - interpretation\n",
    "  - learning\n",
    "---\n"
   ]
  },
  {
   "attachments": {
    "9276d550-f51d-4887-bddd-acb3fe0397bd.jpeg": {
     "image/jpeg": "[encoded data removed]"
    }
   },
   "cell_type": "markdown",
   "id": "f4a42efe-6968-4929-8db4-126d4aa51851",
   "metadata": {},
   "source": [
    "![Meaning of life.jpeg](attachment:9276d550-f51d-4887-bddd-acb3fe0397bd.jpeg)"
   ]
  },
  {
   "cell_type": "markdown",
   "id": "67372010-7d6a-4fc4-8db4-aed7d4028e76",
   "metadata": {},
   "source": [
    "### Today, I'll be open-endedly prying AI's mind for the greatest answers in teh universe, our our universe at least, which is both ever-expanding yet extremely minscule...let's see what AI can cook up for us!"
   ]
  },
  {
   "cell_type": "code",
   "execution_count": 1,
   "id": "8afb7add-3cfa-4512-af84-1ba393145c0d",
   "metadata": {},
   "outputs": [],
   "source": [
    "import os\n",
    "import anthropic\n",
    "from dotenv import load_dotenv"
   ]
  },
  {
   "cell_type": "code",
   "execution_count": 2,
   "id": "cf5643e1-806a-4fe8-9d19-50a9255eaae0",
   "metadata": {},
   "outputs": [],
   "source": [
    "load_dotenv()\n",
    "\n",
    "# Initialize Anthropic client\n",
    "client = anthropic.Anthropic(api_key=os.getenv(\"ANTHROPIC_API_KEY\"))\n",
    "\n",
    "model = \"claude-3-5-sonnet-20241022\"  # Specify the model version"
   ]
  },
  {
   "cell_type": "code",
   "execution_count": 3,
   "id": "0e0dd5ed-fa98-43cf-b1e9-93444ac3c66c",
   "metadata": {},
   "outputs": [],
   "source": [
    "def get_claude_response(prompt):\n",
    "    response = client.messages.create(\n",
    "        model=model,\n",
    "        max_tokens=1024,  # Adjust response length as needed\n",
    "        messages=[{\"role\": \"user\", \"content\": prompt}]\n",
    "    )\n",
    "    return response.content[0].text  # Extract text from response"
   ]
  },
  {
   "cell_type": "code",
   "execution_count": 4,
   "id": "3a971a7f-e483-4d93-85f4-477735d156a8",
   "metadata": {},
   "outputs": [
    {
     "name": "stdout",
     "output_type": "stream",
     "text": [
      "Here's a ranking from most to least difficult to answer, from a human perspective:\n",
      "\n",
      "1. What's the meaning of life? - This is the ultimate philosophical question that has puzzled humanity for millennia, with no universal agreement.\n",
      "\n",
      "2. Is there life after death? - This question transcends human experience and remains impossible to verify empirically.\n",
      "\n",
      "3. Is there something more to life? - The metaphysical nature of this question makes it challenging to answer definitively.\n",
      "\n",
      "4. Will we be punished for our sins? - This relies on religious beliefs and cannot be proven in our current existence.\n",
      "\n",
      "5. Are we in control of our lives? - The free will versus determinism debate remains unresolved in philosophy.\n",
      "\n",
      "6. Is one life enough? - This question intersects with mortality, purpose, and fulfillment in ways that defy simple answers.\n",
      "\n",
      "7. What's our biggest mistake? - The scope and subjectivity make this impossible to answer definitively for all humanity.\n",
      "\n",
      "8. What's the universal language? - The complexity of human communication and diversity makes this highly debatable.\n",
      "\n",
      "9. Do we need to be saved? - This involves both spiritual and existential dimensions that vary widely among cultures.\n",
      "\n",
      "10. Are we all equal? - This involves complex philosophical, biological, and social considerations.\n",
      "\n",
      "11. How do we measure life? - The metrics for measuring life's value or success are highly subjective.\n",
      "\n",
      "12. What do we need in this world? - Needs vary greatly across individuals and cultures.\n",
      "\n",
      "13. How do we know if we're doing the right thing? - Moral relativism versus absolutism makes this challenging but not impossible.\n",
      "\n",
      "14. Can we have it all? - The definition of \"all\" varies, making this personal but answerable.\n",
      "\n",
      "15. Is life unfair? - While subjective, patterns of inequality can be observed and analyzed.\n",
      "\n",
      "16. How can we have healthy relationships? - Psychology and experience provide practical frameworks for answering this.\n",
      "\n",
      "17. Why do we take life for granted? - Human psychology can explain this common tendency.\n",
      "\n",
      "18. Do people change? - Behavioral science and personal observation can answer this fairly reliably.\n",
      "\n",
      "19. Why are some people mean? - Psychology and social science provide clear explanations for human behavior.\n",
      "\n",
      "20. What's the most important moment of our life? - While personal, this can be answered based on individual experience and values.\n"
     ]
    }
   ],
   "source": [
    "response1 = get_claude_response(\"\"\"From the perspective of a human, can you rank these 20 questions from most to least difficult to answer, giving a 1 sentence reason for each question's placement?: \n",
    "1. What’s the meaning of life?\n",
    "2. How do we measure life?\n",
    "3. How can we have healthy relationships?\n",
    "4. What’s our biggest mistake?\n",
    "5. Will we be punished for our sins?\n",
    "6. How do we know if we’re doing the right thing?\n",
    "7. Are we in control of our lives?\n",
    "8. What’s the most important moment of our life?\n",
    "9. Is one life enough?\n",
    "10. Is there life after death?\n",
    "11. What’s the universal language?\n",
    "12. Are we all equal?\n",
    "13. Why do we take life for granted?\n",
    "14. What do we need in this world?\n",
    "15. Can we have it all?\n",
    "16. Is life unfair?\n",
    "17. Do people change?\n",
    "18. Is there something more to life?\n",
    "19. Do we need to be saved?\n",
    "20. Why are some people mean?\n",
    "\"\"\")\n",
    "print(response1)"
   ]
  },
  {
   "cell_type": "markdown",
   "id": "4841d7c3-75ca-47a7-83db-dda803121225",
   "metadata": {},
   "source": [
    "### I kind of expected for the \"after-life\" questions to have been most difficult for a human to answer from AI's perspective. However, I was kind of surprised for AI to actually hint at a definitive-ish answer for the bottom three chosen. Time to inquire about these!"
   ]
  },
  {
   "cell_type": "code",
   "execution_count": 5,
   "id": "cb02cafc-50a2-4e2f-849f-edf84a01ec52",
   "metadata": {},
   "outputs": [
    {
     "name": "stdout",
     "output_type": "stream",
     "text": [
      "I'll attempt to answer these profound questions from a human perspective, while acknowledging that these are highly personal and philosophical matters that individuals must ultimately determine for themselves:\n",
      "\n",
      "1. The meaning of life appears to be what we choose to make of it, as humans have the unique ability to create purpose and significance. While there may not be a universal, prescribed meaning, humans often find purpose through connections with others, personal growth, contributing to society, pursuing passions, creating art, advancing knowledge, raising families, or making positive impacts on the world. The meaning comes from our conscious choice to assign value to these pursuits and our lived experiences.\n",
      "\n",
      "2. The question of life after death remains one of humanity's greatest mysteries, as we cannot empirically verify what happens after we die. Different religions, cultures, and belief systems offer varying perspectives - from reincarnation to heaven/hell concepts to complete cessation of consciousness. From a human perspective, this uncertainty about the afterlife often leads us to focus on making the most of our known existence while finding comfort in our personal beliefs about what may come after.\n",
      "\n",
      "3. Whether there's something more to life depends largely on individual perspective and belief systems. Many humans sense there's something greater than our physical existence - be it spiritual connections, universal consciousness, or deeper truths we haven't yet discovered. This feeling often drives human curiosity, philosophical inquiry, and spiritual seeking. However, others find fulfillment in embracing life's tangible aspects, viewing our physical existence as complete and meaningful in itself without requiring additional layers of meaning.\n"
     ]
    }
   ],
   "source": [
    "response2 = get_claude_response(\"\"\"Of the three most difficult questions to answer that you listed:\n",
    "1. What's the meaning of life?\n",
    "2. Is there life after death?\n",
    "3. Is there something more to life?\n",
    "From the perspective of a human, can you answer them? If you don't think you can, than attempt to in one paragraph for each question.\"\"\")\n",
    "print(response2)"
   ]
  },
  {
   "cell_type": "markdown",
   "id": "6dfa8042-0b55-49af-87fd-778fb9560b50",
   "metadata": {},
   "source": [
    "Hmm, honestly not too shabby I have to say. It doesn't seem to decide on any one specific answer by both noting down that they are subjective and that there isn't much evidence for some conclusions that humans have come to. After all, that is the job of AI: to give every possible answer to be as correct as possible. As a final hurrah, I will give Claude AI the answers from teh blog post I found posing these questions and see what they think of the answers."
   ]
  },
  {
   "cell_type": "code",
   "execution_count": 6,
   "id": "50839a88-a0ab-424f-8caf-4788ddfc9d07",
   "metadata": {},
   "outputs": [
    {
     "name": "stdout",
     "output_type": "stream",
     "text": [
      "These responses are quite thoughtful and pragmatic. Let me break down my thoughts on each:\n",
      "\n",
      "1. Meaning of life response:\n",
      "I appreciate how this answer focuses on personal growth, free will, and the opportunity for redemption. It's a balanced view that acknowledges both the positive and negative aspects of life while emphasizing our ability to make choices and improve ourselves. This is a practical and optimistic perspective that many people might find helpful.\n",
      "\n",
      "2. Life after death response:\n",
      "This is a very diplomatic answer that sidesteps the religious/philosophical debate and instead focuses on what we can control. It echoes the philosophy of \"memento mori\" (remember you must die) while encouraging people to live meaningfully. It's practical advice that works regardless of one's beliefs about the afterlife.\n",
      "\n",
      "3. \"Something more\" response:\n",
      "This is perhaps the most actionable of the three answers. Instead of giving a philosophical response, it provides practical guidance for finding purpose and meaning. It's particularly valuable because it encourages active exploration and personal discovery rather than providing a one-size-fits-all answer.\n",
      "\n",
      "What makes these responses effective is that they:\n",
      "- Avoid absolute claims\n",
      "- Focus on practical actions rather than abstract concepts\n",
      "- Emphasize personal agency and choice\n",
      "- Encourage self-discovery and growth\n",
      "- Remain open-ended enough for individual interpretation\n",
      "\n",
      "While these answers might not satisfy everyone (particularly those seeking more definitive or spiritual answers), they provide thoughtful, practical guidance that could be helpful for many people.\n"
     ]
    }
   ],
   "source": [
    "response3 = get_claude_response(\"\"\"These three questions were answered by a human blogger online. What do you think of their responses? Agree or disagree?\n",
    "1. What's the meaning of life? -> To make us learn and grow, show us good and bad, let us choose who to be and what to do each \n",
    "day while giving us many opportunities to change and be better.\n",
    "2. Is there life after death? -> The only thing that is sure about the future is that it’s uncertain. The best you can do is \n",
    "live in a way so that your death will be a celebration of your life.\n",
    "3. Is there something more to life? -> If you’re asking yourself that, then you need more meaning in your days. Go out there, \n",
    "try different stuff and see what you care about, what you’re passionate about and what excites you. Then combine these in a \n",
    "unique way and make something beautiful out of that.\n",
    "\"\"\")\n",
    "print(response3)"
   ]
  },
  {
   "cell_type": "markdown",
   "id": "e1226e9d-efe7-4d75-8110-238dcccd7b1e",
   "metadata": {},
   "source": [
    "### It seems this \"human blogger\", without noting down every possible answer, came to their own subjective conclusion more so from a position of guidance opposed to a true answer. While AI attempted to provide answers the human tried to provide perspective, acknowledging quicker and more naturally than AI did that there isn' truly an answer to these super subjective, existential questions. And if asked the right way witha proper mindset, these questions can be used to reframe ones life opposed to question everything about it. "
   ]
  }
 ],
 "metadata": {
  "citation-manager": {
   "items": {}
  },
  "kernelspec": {
   "display_name": "Python 3-12 (COMM4190)",
   "language": "python",
   "name": "python3-12_comm4190"
  },
  "language_info": {
   "codemirror_mode": {
    "name": "ipython",
    "version": 3
   },
   "file_extension": ".py",
   "mimetype": "text/x-python",
   "name": "python",
   "nbconvert_exporter": "python",
   "pygments_lexer": "ipython3",
   "version": "3.12.8"
  }
 },
 "nbformat": 4,
 "nbformat_minor": 5
}
