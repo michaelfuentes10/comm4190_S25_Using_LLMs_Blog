{
 "cells": [
  {
   "cell_type": "raw",
   "id": "9343c3ee-4095-424a-82ed-0741390fbeeb",
   "metadata": {},
   "source": [
    "---\n",
    "title: \"Let's get deep! How AI Interprets the universe\"\n",
    "description: 'Where do we go when we die? What is the meaning of it all? How does AI interpret the most humanistic existential dread questions OAT?'\n",
    "author: \"Michael Fuentes\"\n",
    "\n",
    "execute:\n",
    "  echo: true\n",
    "  code-fold: true\n",
    "\n",
    "date: \"02/16/2025\"\n",
    "categories:\n",
    "  - LLMs\n",
    "  - prompting\n",
    "  - logic\n",
    "---\n"
   ]
  },
  {
   "cell_type": "markdown",
   "id": "67372010-7d6a-4fc4-8db4-aed7d4028e76",
   "metadata": {},
   "source": [
    "## Today, I'll be open-endedly prying AI's mind for the greatest answers in teh universe, our our universe at least, which is both ever-expanding yet extremely minscule...let's see what AI can cook up for us!"
   ]
  },
  {
   "cell_type": "code",
   "execution_count": 1,
   "id": "8afb7add-3cfa-4512-af84-1ba393145c0d",
   "metadata": {},
   "outputs": [],
   "source": [
    "import os\n",
    "import anthropic\n",
    "from dotenv import load_dotenv"
   ]
  },
  {
   "cell_type": "code",
   "execution_count": 2,
   "id": "cf5643e1-806a-4fe8-9d19-50a9255eaae0",
   "metadata": {},
   "outputs": [],
   "source": [
    "load_dotenv()\n",
    "\n",
    "# Initialize Anthropic client\n",
    "client = anthropic.Anthropic(api_key=os.getenv(\"ANTHROPIC_API_KEY\"))\n",
    "\n",
    "model = \"claude-3-5-sonnet-20241022\"  # Specify the model version"
   ]
  },
  {
   "cell_type": "code",
   "execution_count": 3,
   "id": "0e0dd5ed-fa98-43cf-b1e9-93444ac3c66c",
   "metadata": {},
   "outputs": [],
   "source": [
    "def get_claude_response(prompt):\n",
    "    response = client.messages.create(\n",
    "        model=model,\n",
    "        max_tokens=1024,  # Adjust response length as needed\n",
    "        messages=[{\"role\": \"user\", \"content\": prompt}]\n",
    "    )\n",
    "    return response.content[0].text  # Extract text from response"
   ]
  },
  {
   "cell_type": "code",
   "execution_count": 5,
   "id": "3a971a7f-e483-4d93-85f4-477735d156a8",
   "metadata": {},
   "outputs": [
    {
     "name": "stdout",
     "output_type": "stream",
     "text": [
      "Here's a ranking from most to least difficult to answer, from a human perspective:\n",
      "\n",
      "1. What's the meaning of life? - This is the ultimate philosophical question that has puzzled humanity for millennia with no definitive answer.\n",
      "\n",
      "2. Is there life after death? - This question transcends human experience and can't be empirically verified by the living.\n",
      "\n",
      "3. Is there something more to life? - Similar to the meaning of life, this metaphysical question extends beyond our observable reality.\n",
      "\n",
      "4. Will we be punished for our sins? - This involves complex theological and moral questions that vary across beliefs and cultures.\n",
      "\n",
      "5. Are we in control of our lives? - The free will versus determinism debate remains unresolved in philosophy and science.\n",
      "\n",
      "6. Is one life enough? - This question intertwines with existential and spiritual beliefs that can't be objectively answered.\n",
      "\n",
      "7. What's our biggest mistake? - The scope is too broad and subjective to determine a universal \"biggest\" mistake.\n",
      "\n",
      "8. What's the universal language? - While mathematics or emotions are often suggested, there's no clear consensus on what truly connects all beings.\n",
      "\n",
      "9. How do we measure life? - The metrics for measuring life's value or success are highly subjective and culturally dependent.\n",
      "\n",
      "10. Do we need to be saved? - This theological and philosophical question varies greatly based on belief systems.\n",
      "\n",
      "11. What do we need in this world? - Needs vary greatly across individuals, cultures, and circumstances.\n",
      "\n",
      "12. Are we all equal? - This involves complex social, biological, and philosophical considerations about different types of equality.\n",
      "\n",
      "13. How do we know if we're doing the right thing? - While challenging, we have ethical frameworks and moral intuitions to guide us.\n",
      "\n",
      "14. Can we have it all? - While subjective, this can be addressed through practical and personal perspective.\n",
      "\n",
      "15. Why do we take life for granted? - Human psychology and behavior patterns provide some clear insights.\n",
      "\n",
      "16. Is life unfair? - Observable patterns in life make this easier to answer, though still subjective.\n",
      "\n",
      "17. How can we have healthy relationships? - Psychology and experience provide many practical answers.\n",
      "\n",
      "18. Why are some people mean? - Psychology and social sciences offer clear explanations for human behavior.\n",
      "\n",
      "19. Do people change? - Evidence from psychology and personal experience makes this relatively straightforward to answer.\n",
      "\n",
      "20. How do we measure life? - While philosophical, we have various concrete metrics and frameworks to evaluate life experiences.\n"
     ]
    }
   ],
   "source": [
    "response1 = get_claude_response(\"\"\"From the perspective of a human, can you rank these 20 questions from most to least difficult to answer, giving a 1 sentence reason for each question's placement?: \n",
    "1. What’s the meaning of life?\n",
    "2. How do we measure life?\n",
    "3. How can we have healthy relationships?\n",
    "4. What’s our biggest mistake?\n",
    "5. Will we be punished for our sins?\n",
    "6. How do we know if we’re doing the right thing?\n",
    "7. Are we in control of our lives?\n",
    "8. What’s the most important moment of our life?\n",
    "9. Is one life enough?\n",
    "10. Is there life after death?\n",
    "11. What’s the universal language?\n",
    "12. Are we all equal?\n",
    "13. Why do we take life for granted?\n",
    "14. What do we need in this world?\n",
    "15. Can we have it all?\n",
    "16. Is life unfair?\n",
    "17. Do people change?\n",
    "18. Is there something more to life?\n",
    "19. Do we need to be saved?\n",
    "20. Why are some people mean?\n",
    "\"\"\")\n",
    "print(response1)"
   ]
  },
  {
   "cell_type": "code",
   "execution_count": null,
   "id": "d1b1db6f-e98d-476b-8c88-06c014a1e942",
   "metadata": {},
   "outputs": [],
   "source": []
  }
 ],
 "metadata": {
  "kernelspec": {
   "display_name": "Python 3-12 (COMM4190)",
   "language": "python",
   "name": "python3-12_comm4190"
  },
  "language_info": {
   "codemirror_mode": {
    "name": "ipython",
    "version": 3
   },
   "file_extension": ".py",
   "mimetype": "text/x-python",
   "name": "python",
   "nbconvert_exporter": "python",
   "pygments_lexer": "ipython3",
   "version": "3.12.8"
  }
 },
 "nbformat": 4,
 "nbformat_minor": 5
}
